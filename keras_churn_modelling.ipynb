{
  "nbformat": 4,
  "nbformat_minor": 0,
  "metadata": {
    "colab": {
      "name": "keras_churn_modelling.ipynb",
      "provenance": [],
      "authorship_tag": "ABX9TyNiqLjzQTpgaXIyFNihkcvb",
      "include_colab_link": true
    },
    "kernelspec": {
      "name": "python3",
      "display_name": "Python 3"
    },
    "language_info": {
      "name": "python"
    }
  },
  "cells": [
    {
      "cell_type": "markdown",
      "metadata": {
        "id": "view-in-github",
        "colab_type": "text"
      },
      "source": [
        "<a href=\"https://colab.research.google.com/github/maneeshdisodia/DearML/blob/master/keras_churn_modelling.ipynb\" target=\"_parent\"><img src=\"https://colab.research.google.com/assets/colab-badge.svg\" alt=\"Open In Colab\"/></a>"
      ]
    },
    {
      "cell_type": "code",
      "metadata": {
        "id": "JmLqU2ADRBdg"
      },
      "source": [
        "import numpy as np"
      ],
      "execution_count": null,
      "outputs": []
    },
    {
      "cell_type": "code",
      "metadata": {
        "id": "IEPnBrkCRNSM"
      },
      "source": [
        "import pandas as pd"
      ],
      "execution_count": null,
      "outputs": []
    },
    {
      "cell_type": "code",
      "metadata": {
        "id": "9WDnTlvyRQF2"
      },
      "source": [
        "import matplotlib.pyplot as plt"
      ],
      "execution_count": null,
      "outputs": []
    },
    {
      "cell_type": "code",
      "metadata": {
        "id": "cl0dkMXaRWsX"
      },
      "source": [
        "dataset = pd.read_csv('https://raw.githubusercontent.com/krishnaik06/Complete-Deep-Learning/master/ANN/Churn_Modelling.csv')"
      ],
      "execution_count": null,
      "outputs": []
    },
    {
      "cell_type": "code",
      "metadata": {
        "colab": {
          "base_uri": "https://localhost:8080/",
          "height": 422
        },
        "id": "mc8DU1LOS2Ke",
        "outputId": "59d75128-d6f1-4c30-8e7a-78fc04e62ed2"
      },
      "source": [
        "dataset"
      ],
      "execution_count": null,
      "outputs": [
        {
          "output_type": "execute_result",
          "data": {
            "text/html": [
              "<div>\n",
              "<style scoped>\n",
              "    .dataframe tbody tr th:only-of-type {\n",
              "        vertical-align: middle;\n",
              "    }\n",
              "\n",
              "    .dataframe tbody tr th {\n",
              "        vertical-align: top;\n",
              "    }\n",
              "\n",
              "    .dataframe thead th {\n",
              "        text-align: right;\n",
              "    }\n",
              "</style>\n",
              "<table border=\"1\" class=\"dataframe\">\n",
              "  <thead>\n",
              "    <tr style=\"text-align: right;\">\n",
              "      <th></th>\n",
              "      <th>RowNumber</th>\n",
              "      <th>CustomerId</th>\n",
              "      <th>Surname</th>\n",
              "      <th>CreditScore</th>\n",
              "      <th>Geography</th>\n",
              "      <th>Gender</th>\n",
              "      <th>Age</th>\n",
              "      <th>Tenure</th>\n",
              "      <th>Balance</th>\n",
              "      <th>NumOfProducts</th>\n",
              "      <th>HasCrCard</th>\n",
              "      <th>IsActiveMember</th>\n",
              "      <th>EstimatedSalary</th>\n",
              "      <th>Exited</th>\n",
              "    </tr>\n",
              "  </thead>\n",
              "  <tbody>\n",
              "    <tr>\n",
              "      <th>0</th>\n",
              "      <td>1</td>\n",
              "      <td>15634602</td>\n",
              "      <td>Hargrave</td>\n",
              "      <td>619</td>\n",
              "      <td>France</td>\n",
              "      <td>Female</td>\n",
              "      <td>42</td>\n",
              "      <td>2</td>\n",
              "      <td>0.00</td>\n",
              "      <td>1</td>\n",
              "      <td>1</td>\n",
              "      <td>1</td>\n",
              "      <td>101348.88</td>\n",
              "      <td>1</td>\n",
              "    </tr>\n",
              "    <tr>\n",
              "      <th>1</th>\n",
              "      <td>2</td>\n",
              "      <td>15647311</td>\n",
              "      <td>Hill</td>\n",
              "      <td>608</td>\n",
              "      <td>Spain</td>\n",
              "      <td>Female</td>\n",
              "      <td>41</td>\n",
              "      <td>1</td>\n",
              "      <td>83807.86</td>\n",
              "      <td>1</td>\n",
              "      <td>0</td>\n",
              "      <td>1</td>\n",
              "      <td>112542.58</td>\n",
              "      <td>0</td>\n",
              "    </tr>\n",
              "    <tr>\n",
              "      <th>2</th>\n",
              "      <td>3</td>\n",
              "      <td>15619304</td>\n",
              "      <td>Onio</td>\n",
              "      <td>502</td>\n",
              "      <td>France</td>\n",
              "      <td>Female</td>\n",
              "      <td>42</td>\n",
              "      <td>8</td>\n",
              "      <td>159660.80</td>\n",
              "      <td>3</td>\n",
              "      <td>1</td>\n",
              "      <td>0</td>\n",
              "      <td>113931.57</td>\n",
              "      <td>1</td>\n",
              "    </tr>\n",
              "    <tr>\n",
              "      <th>3</th>\n",
              "      <td>4</td>\n",
              "      <td>15701354</td>\n",
              "      <td>Boni</td>\n",
              "      <td>699</td>\n",
              "      <td>France</td>\n",
              "      <td>Female</td>\n",
              "      <td>39</td>\n",
              "      <td>1</td>\n",
              "      <td>0.00</td>\n",
              "      <td>2</td>\n",
              "      <td>0</td>\n",
              "      <td>0</td>\n",
              "      <td>93826.63</td>\n",
              "      <td>0</td>\n",
              "    </tr>\n",
              "    <tr>\n",
              "      <th>4</th>\n",
              "      <td>5</td>\n",
              "      <td>15737888</td>\n",
              "      <td>Mitchell</td>\n",
              "      <td>850</td>\n",
              "      <td>Spain</td>\n",
              "      <td>Female</td>\n",
              "      <td>43</td>\n",
              "      <td>2</td>\n",
              "      <td>125510.82</td>\n",
              "      <td>1</td>\n",
              "      <td>1</td>\n",
              "      <td>1</td>\n",
              "      <td>79084.10</td>\n",
              "      <td>0</td>\n",
              "    </tr>\n",
              "    <tr>\n",
              "      <th>...</th>\n",
              "      <td>...</td>\n",
              "      <td>...</td>\n",
              "      <td>...</td>\n",
              "      <td>...</td>\n",
              "      <td>...</td>\n",
              "      <td>...</td>\n",
              "      <td>...</td>\n",
              "      <td>...</td>\n",
              "      <td>...</td>\n",
              "      <td>...</td>\n",
              "      <td>...</td>\n",
              "      <td>...</td>\n",
              "      <td>...</td>\n",
              "      <td>...</td>\n",
              "    </tr>\n",
              "    <tr>\n",
              "      <th>9995</th>\n",
              "      <td>9996</td>\n",
              "      <td>15606229</td>\n",
              "      <td>Obijiaku</td>\n",
              "      <td>771</td>\n",
              "      <td>France</td>\n",
              "      <td>Male</td>\n",
              "      <td>39</td>\n",
              "      <td>5</td>\n",
              "      <td>0.00</td>\n",
              "      <td>2</td>\n",
              "      <td>1</td>\n",
              "      <td>0</td>\n",
              "      <td>96270.64</td>\n",
              "      <td>0</td>\n",
              "    </tr>\n",
              "    <tr>\n",
              "      <th>9996</th>\n",
              "      <td>9997</td>\n",
              "      <td>15569892</td>\n",
              "      <td>Johnstone</td>\n",
              "      <td>516</td>\n",
              "      <td>France</td>\n",
              "      <td>Male</td>\n",
              "      <td>35</td>\n",
              "      <td>10</td>\n",
              "      <td>57369.61</td>\n",
              "      <td>1</td>\n",
              "      <td>1</td>\n",
              "      <td>1</td>\n",
              "      <td>101699.77</td>\n",
              "      <td>0</td>\n",
              "    </tr>\n",
              "    <tr>\n",
              "      <th>9997</th>\n",
              "      <td>9998</td>\n",
              "      <td>15584532</td>\n",
              "      <td>Liu</td>\n",
              "      <td>709</td>\n",
              "      <td>France</td>\n",
              "      <td>Female</td>\n",
              "      <td>36</td>\n",
              "      <td>7</td>\n",
              "      <td>0.00</td>\n",
              "      <td>1</td>\n",
              "      <td>0</td>\n",
              "      <td>1</td>\n",
              "      <td>42085.58</td>\n",
              "      <td>1</td>\n",
              "    </tr>\n",
              "    <tr>\n",
              "      <th>9998</th>\n",
              "      <td>9999</td>\n",
              "      <td>15682355</td>\n",
              "      <td>Sabbatini</td>\n",
              "      <td>772</td>\n",
              "      <td>Germany</td>\n",
              "      <td>Male</td>\n",
              "      <td>42</td>\n",
              "      <td>3</td>\n",
              "      <td>75075.31</td>\n",
              "      <td>2</td>\n",
              "      <td>1</td>\n",
              "      <td>0</td>\n",
              "      <td>92888.52</td>\n",
              "      <td>1</td>\n",
              "    </tr>\n",
              "    <tr>\n",
              "      <th>9999</th>\n",
              "      <td>10000</td>\n",
              "      <td>15628319</td>\n",
              "      <td>Walker</td>\n",
              "      <td>792</td>\n",
              "      <td>France</td>\n",
              "      <td>Female</td>\n",
              "      <td>28</td>\n",
              "      <td>4</td>\n",
              "      <td>130142.79</td>\n",
              "      <td>1</td>\n",
              "      <td>1</td>\n",
              "      <td>0</td>\n",
              "      <td>38190.78</td>\n",
              "      <td>0</td>\n",
              "    </tr>\n",
              "  </tbody>\n",
              "</table>\n",
              "<p>10000 rows × 14 columns</p>\n",
              "</div>"
            ],
            "text/plain": [
              "      RowNumber  CustomerId    Surname  ...  IsActiveMember EstimatedSalary Exited\n",
              "0             1    15634602   Hargrave  ...               1       101348.88      1\n",
              "1             2    15647311       Hill  ...               1       112542.58      0\n",
              "2             3    15619304       Onio  ...               0       113931.57      1\n",
              "3             4    15701354       Boni  ...               0        93826.63      0\n",
              "4             5    15737888   Mitchell  ...               1        79084.10      0\n",
              "...         ...         ...        ...  ...             ...             ...    ...\n",
              "9995       9996    15606229   Obijiaku  ...               0        96270.64      0\n",
              "9996       9997    15569892  Johnstone  ...               1       101699.77      0\n",
              "9997       9998    15584532        Liu  ...               1        42085.58      1\n",
              "9998       9999    15682355  Sabbatini  ...               0        92888.52      1\n",
              "9999      10000    15628319     Walker  ...               0        38190.78      0\n",
              "\n",
              "[10000 rows x 14 columns]"
            ]
          },
          "metadata": {
            "tags": []
          },
          "execution_count": 5
        }
      ]
    },
    {
      "cell_type": "code",
      "metadata": {
        "id": "ynJPW0fUTJ4P"
      },
      "source": [
        "X =dataset.iloc[:,3:13]\n",
        "y = dataset.iloc[:,13]"
      ],
      "execution_count": null,
      "outputs": []
    },
    {
      "cell_type": "code",
      "metadata": {
        "id": "bnuKOAXtrjXz"
      },
      "source": [
        "geography =pd.get_dummies(X.Geography,drop_first = True)\n",
        "gender =pd.get_dummies(X.Gender,drop_first = True)"
      ],
      "execution_count": null,
      "outputs": []
    },
    {
      "cell_type": "code",
      "metadata": {
        "id": "qS6m2QeJsCrJ"
      },
      "source": [
        "X =pd.concat([X,geography,gender],axis =1)"
      ],
      "execution_count": null,
      "outputs": []
    },
    {
      "cell_type": "code",
      "metadata": {
        "id": "dzYAVaNNswIM"
      },
      "source": [
        "X.drop(['Geography','Gender'],axis =1, inplace =True)"
      ],
      "execution_count": null,
      "outputs": []
    },
    {
      "cell_type": "code",
      "metadata": {
        "colab": {
          "base_uri": "https://localhost:8080/"
        },
        "id": "0UQYMd6htAOf",
        "outputId": "53381a66-1ca9-450e-ce30-d67bf1ac6fc2"
      },
      "source": [
        "X.columns"
      ],
      "execution_count": null,
      "outputs": [
        {
          "output_type": "execute_result",
          "data": {
            "text/plain": [
              "Index(['CreditScore', 'Age', 'Tenure', 'Balance', 'NumOfProducts', 'HasCrCard',\n",
              "       'IsActiveMember', 'EstimatedSalary', 'Germany', 'Spain', 'Male'],\n",
              "      dtype='object')"
            ]
          },
          "metadata": {
            "tags": []
          },
          "execution_count": 10
        }
      ]
    },
    {
      "cell_type": "code",
      "metadata": {
        "id": "61u-aeyytCNI"
      },
      "source": [
        "from sklearn.model_selection import train_test_split   "
      ],
      "execution_count": null,
      "outputs": []
    },
    {
      "cell_type": "code",
      "metadata": {
        "id": "cdhpqyUytXQj"
      },
      "source": [
        "X_train,X_test,y_train,y_test =train_test_split(X,y,test_size =0.2,random_state =101)"
      ],
      "execution_count": null,
      "outputs": []
    },
    {
      "cell_type": "code",
      "metadata": {
        "id": "tzW3uYyItxMp"
      },
      "source": [
        "from sklearn.preprocessing import StandardScaler"
      ],
      "execution_count": null,
      "outputs": []
    },
    {
      "cell_type": "code",
      "metadata": {
        "id": "lfDLDlYnuVB5"
      },
      "source": [
        "sc = StandardScaler()"
      ],
      "execution_count": null,
      "outputs": []
    },
    {
      "cell_type": "code",
      "metadata": {
        "id": "C7Olm-87umPF"
      },
      "source": [
        "X_train =sc.fit_transform(X_train)"
      ],
      "execution_count": null,
      "outputs": []
    },
    {
      "cell_type": "code",
      "metadata": {
        "id": "0h4nZPiRuusq"
      },
      "source": [
        "X_test = sc.fit_transform(X_test)"
      ],
      "execution_count": null,
      "outputs": []
    },
    {
      "cell_type": "code",
      "metadata": {
        "id": "MrSLBKSxwQ-2"
      },
      "source": [
        "import  tensorflow.keras as keras"
      ],
      "execution_count": null,
      "outputs": []
    },
    {
      "cell_type": "code",
      "metadata": {
        "id": "A-bYJLDfYHAT"
      },
      "source": [
        "from keras import Sequential\n",
        "from keras.layers import Dense\n",
        "from keras.layers import LeakyReLU,PReLU,ELU"
      ],
      "execution_count": null,
      "outputs": []
    },
    {
      "cell_type": "code",
      "metadata": {
        "id": "lp8PSJtLZddF"
      },
      "source": [
        "from keras.layers import Dropout"
      ],
      "execution_count": null,
      "outputs": []
    },
    {
      "cell_type": "code",
      "metadata": {
        "id": "s9gP35iDZkas"
      },
      "source": [
        "classifier = Sequential()"
      ],
      "execution_count": null,
      "outputs": []
    },
    {
      "cell_type": "code",
      "metadata": {
        "id": "jFgbTI5zZzda"
      },
      "source": [
        "classifier.add(Dense(units =6,kernel_initializer = \"he_uniform\",activation='relu',input_dim =11))"
      ],
      "execution_count": null,
      "outputs": []
    },
    {
      "cell_type": "code",
      "metadata": {
        "id": "JtnxKoRwaT7e"
      },
      "source": [
        "classifier.add(Dense(units =6,kernel_initializer = \"he_uniform\",activation='relu'))\n",
        "classifier.add(Dense(units =1,kernel_initializer = \"glorot_uniform\",activation='sigmoid'))"
      ],
      "execution_count": null,
      "outputs": []
    },
    {
      "cell_type": "code",
      "metadata": {
        "id": "rprPsDQKbG7s"
      },
      "source": [
        "classifier.compile(optimizer = 'adam',loss = 'binary_crossentropy',metrics=['accuracy'])"
      ],
      "execution_count": null,
      "outputs": []
    },
    {
      "cell_type": "code",
      "metadata": {
        "colab": {
          "base_uri": "https://localhost:8080/"
        },
        "id": "BjcRbRQdbkpz",
        "outputId": "43a7d197-253e-412e-bbc1-f0efcc32ff40"
      },
      "source": [
        "model_history = classifier.fit(X_train,y_train,validation_split =0.3,batch_size = 10,epochs=200)"
      ],
      "execution_count": null,
      "outputs": [
        {
          "output_type": "stream",
          "text": [
            "Epoch 1/200\n",
            "560/560 [==============================] - 16s 2ms/step - loss: 0.7555 - accuracy: 0.6124 - val_loss: 0.4878 - val_accuracy: 0.8004\n",
            "Epoch 2/200\n",
            "560/560 [==============================] - 1s 2ms/step - loss: 0.4931 - accuracy: 0.7875 - val_loss: 0.4497 - val_accuracy: 0.8000\n",
            "Epoch 3/200\n",
            "560/560 [==============================] - 1s 1ms/step - loss: 0.4568 - accuracy: 0.7956 - val_loss: 0.4325 - val_accuracy: 0.8071\n",
            "Epoch 4/200\n",
            "560/560 [==============================] - 1s 2ms/step - loss: 0.4481 - accuracy: 0.8009 - val_loss: 0.4219 - val_accuracy: 0.8133\n",
            "Epoch 5/200\n",
            "560/560 [==============================] - 1s 2ms/step - loss: 0.4239 - accuracy: 0.8149 - val_loss: 0.4123 - val_accuracy: 0.8188\n",
            "Epoch 6/200\n",
            "560/560 [==============================] - 1s 2ms/step - loss: 0.4193 - accuracy: 0.8165 - val_loss: 0.4040 - val_accuracy: 0.8221\n",
            "Epoch 7/200\n",
            "560/560 [==============================] - 1s 2ms/step - loss: 0.3987 - accuracy: 0.8292 - val_loss: 0.3989 - val_accuracy: 0.8258\n",
            "Epoch 8/200\n",
            "560/560 [==============================] - 1s 2ms/step - loss: 0.3940 - accuracy: 0.8337 - val_loss: 0.3954 - val_accuracy: 0.8204\n",
            "Epoch 9/200\n",
            "560/560 [==============================] - 1s 2ms/step - loss: 0.3881 - accuracy: 0.8374 - val_loss: 0.3871 - val_accuracy: 0.8267\n",
            "Epoch 10/200\n",
            "560/560 [==============================] - 1s 2ms/step - loss: 0.3746 - accuracy: 0.8429 - val_loss: 0.3767 - val_accuracy: 0.8363\n",
            "Epoch 11/200\n",
            "560/560 [==============================] - 1s 2ms/step - loss: 0.3680 - accuracy: 0.8500 - val_loss: 0.3699 - val_accuracy: 0.8413\n",
            "Epoch 12/200\n",
            "560/560 [==============================] - 1s 2ms/step - loss: 0.3586 - accuracy: 0.8568 - val_loss: 0.3599 - val_accuracy: 0.8504\n",
            "Epoch 13/200\n",
            "560/560 [==============================] - 1s 2ms/step - loss: 0.3643 - accuracy: 0.8480 - val_loss: 0.3582 - val_accuracy: 0.8525\n",
            "Epoch 14/200\n",
            "560/560 [==============================] - 1s 1ms/step - loss: 0.3529 - accuracy: 0.8552 - val_loss: 0.3538 - val_accuracy: 0.8542\n",
            "Epoch 15/200\n",
            "560/560 [==============================] - 1s 2ms/step - loss: 0.3512 - accuracy: 0.8546 - val_loss: 0.3538 - val_accuracy: 0.8571\n",
            "Epoch 16/200\n",
            "560/560 [==============================] - 1s 2ms/step - loss: 0.3512 - accuracy: 0.8530 - val_loss: 0.3546 - val_accuracy: 0.8592\n",
            "Epoch 17/200\n",
            "560/560 [==============================] - 1s 2ms/step - loss: 0.3473 - accuracy: 0.8540 - val_loss: 0.3514 - val_accuracy: 0.8558\n",
            "Epoch 18/200\n",
            "560/560 [==============================] - 1s 2ms/step - loss: 0.3386 - accuracy: 0.8612 - val_loss: 0.3512 - val_accuracy: 0.8571\n",
            "Epoch 19/200\n",
            "560/560 [==============================] - 1s 2ms/step - loss: 0.3484 - accuracy: 0.8570 - val_loss: 0.3494 - val_accuracy: 0.8562\n",
            "Epoch 20/200\n",
            "560/560 [==============================] - 1s 2ms/step - loss: 0.3284 - accuracy: 0.8740 - val_loss: 0.3487 - val_accuracy: 0.8571\n",
            "Epoch 21/200\n",
            "560/560 [==============================] - 1s 2ms/step - loss: 0.3422 - accuracy: 0.8569 - val_loss: 0.3511 - val_accuracy: 0.8571\n",
            "Epoch 22/200\n",
            "560/560 [==============================] - 1s 2ms/step - loss: 0.3339 - accuracy: 0.8640 - val_loss: 0.3498 - val_accuracy: 0.8558\n",
            "Epoch 23/200\n",
            "560/560 [==============================] - 1s 2ms/step - loss: 0.3421 - accuracy: 0.8583 - val_loss: 0.3526 - val_accuracy: 0.8542\n",
            "Epoch 24/200\n",
            "560/560 [==============================] - 1s 2ms/step - loss: 0.3385 - accuracy: 0.8614 - val_loss: 0.3490 - val_accuracy: 0.8562\n",
            "Epoch 25/200\n",
            "560/560 [==============================] - 1s 2ms/step - loss: 0.3289 - accuracy: 0.8621 - val_loss: 0.3496 - val_accuracy: 0.8587\n",
            "Epoch 26/200\n",
            "560/560 [==============================] - 1s 2ms/step - loss: 0.3368 - accuracy: 0.8661 - val_loss: 0.3481 - val_accuracy: 0.8575\n",
            "Epoch 27/200\n",
            "560/560 [==============================] - 1s 2ms/step - loss: 0.3304 - accuracy: 0.8673 - val_loss: 0.3496 - val_accuracy: 0.8529\n",
            "Epoch 28/200\n",
            "560/560 [==============================] - 1s 2ms/step - loss: 0.3432 - accuracy: 0.8566 - val_loss: 0.3480 - val_accuracy: 0.8575\n",
            "Epoch 29/200\n",
            "560/560 [==============================] - 1s 2ms/step - loss: 0.3290 - accuracy: 0.8643 - val_loss: 0.3534 - val_accuracy: 0.8600\n",
            "Epoch 30/200\n",
            "560/560 [==============================] - 1s 2ms/step - loss: 0.3428 - accuracy: 0.8597 - val_loss: 0.3491 - val_accuracy: 0.8583\n",
            "Epoch 31/200\n",
            "560/560 [==============================] - 1s 2ms/step - loss: 0.3472 - accuracy: 0.8563 - val_loss: 0.3458 - val_accuracy: 0.8587\n",
            "Epoch 32/200\n",
            "560/560 [==============================] - 1s 2ms/step - loss: 0.3396 - accuracy: 0.8593 - val_loss: 0.3491 - val_accuracy: 0.8600\n",
            "Epoch 33/200\n",
            "560/560 [==============================] - 1s 2ms/step - loss: 0.3243 - accuracy: 0.8649 - val_loss: 0.3485 - val_accuracy: 0.8558\n",
            "Epoch 34/200\n",
            "560/560 [==============================] - 1s 2ms/step - loss: 0.3275 - accuracy: 0.8622 - val_loss: 0.3501 - val_accuracy: 0.8592\n",
            "Epoch 35/200\n",
            "560/560 [==============================] - 1s 2ms/step - loss: 0.3291 - accuracy: 0.8665 - val_loss: 0.3474 - val_accuracy: 0.8575\n",
            "Epoch 36/200\n",
            "560/560 [==============================] - 1s 2ms/step - loss: 0.3401 - accuracy: 0.8561 - val_loss: 0.3488 - val_accuracy: 0.8554\n",
            "Epoch 37/200\n",
            "560/560 [==============================] - 1s 2ms/step - loss: 0.3410 - accuracy: 0.8596 - val_loss: 0.3465 - val_accuracy: 0.8592\n",
            "Epoch 38/200\n",
            "560/560 [==============================] - 1s 2ms/step - loss: 0.3304 - accuracy: 0.8662 - val_loss: 0.3499 - val_accuracy: 0.8583\n",
            "Epoch 39/200\n",
            "560/560 [==============================] - 1s 2ms/step - loss: 0.3383 - accuracy: 0.8580 - val_loss: 0.3473 - val_accuracy: 0.8571\n",
            "Epoch 40/200\n",
            "560/560 [==============================] - 1s 2ms/step - loss: 0.3340 - accuracy: 0.8595 - val_loss: 0.3450 - val_accuracy: 0.8604\n",
            "Epoch 41/200\n",
            "560/560 [==============================] - 1s 2ms/step - loss: 0.3459 - accuracy: 0.8545 - val_loss: 0.3462 - val_accuracy: 0.8583\n",
            "Epoch 42/200\n",
            "560/560 [==============================] - 1s 2ms/step - loss: 0.3322 - accuracy: 0.8645 - val_loss: 0.3466 - val_accuracy: 0.8575\n",
            "Epoch 43/200\n",
            "560/560 [==============================] - 1s 2ms/step - loss: 0.3420 - accuracy: 0.8511 - val_loss: 0.3475 - val_accuracy: 0.8554\n",
            "Epoch 44/200\n",
            "560/560 [==============================] - 1s 2ms/step - loss: 0.3339 - accuracy: 0.8643 - val_loss: 0.3467 - val_accuracy: 0.8617\n",
            "Epoch 45/200\n",
            "560/560 [==============================] - 1s 2ms/step - loss: 0.3304 - accuracy: 0.8634 - val_loss: 0.3458 - val_accuracy: 0.8579\n",
            "Epoch 46/200\n",
            "560/560 [==============================] - 1s 1ms/step - loss: 0.3374 - accuracy: 0.8581 - val_loss: 0.3453 - val_accuracy: 0.8587\n",
            "Epoch 47/200\n",
            "560/560 [==============================] - 1s 2ms/step - loss: 0.3319 - accuracy: 0.8616 - val_loss: 0.3454 - val_accuracy: 0.8592\n",
            "Epoch 48/200\n",
            "560/560 [==============================] - 1s 2ms/step - loss: 0.3373 - accuracy: 0.8587 - val_loss: 0.3477 - val_accuracy: 0.8562\n",
            "Epoch 49/200\n",
            "560/560 [==============================] - 1s 2ms/step - loss: 0.3408 - accuracy: 0.8541 - val_loss: 0.3469 - val_accuracy: 0.8617\n",
            "Epoch 50/200\n",
            "560/560 [==============================] - 1s 2ms/step - loss: 0.3380 - accuracy: 0.8602 - val_loss: 0.3475 - val_accuracy: 0.8583\n",
            "Epoch 51/200\n",
            "560/560 [==============================] - 1s 2ms/step - loss: 0.3368 - accuracy: 0.8623 - val_loss: 0.3445 - val_accuracy: 0.8633\n",
            "Epoch 52/200\n",
            "560/560 [==============================] - 1s 2ms/step - loss: 0.3277 - accuracy: 0.8651 - val_loss: 0.3471 - val_accuracy: 0.8554\n",
            "Epoch 53/200\n",
            "560/560 [==============================] - 1s 2ms/step - loss: 0.3322 - accuracy: 0.8635 - val_loss: 0.3467 - val_accuracy: 0.8587\n",
            "Epoch 54/200\n",
            "560/560 [==============================] - 1s 2ms/step - loss: 0.3396 - accuracy: 0.8587 - val_loss: 0.3477 - val_accuracy: 0.8596\n",
            "Epoch 55/200\n",
            "560/560 [==============================] - 1s 2ms/step - loss: 0.3503 - accuracy: 0.8514 - val_loss: 0.3489 - val_accuracy: 0.8546\n",
            "Epoch 56/200\n",
            "560/560 [==============================] - 1s 2ms/step - loss: 0.3447 - accuracy: 0.8549 - val_loss: 0.3473 - val_accuracy: 0.8579\n",
            "Epoch 57/200\n",
            "560/560 [==============================] - 1s 2ms/step - loss: 0.3369 - accuracy: 0.8565 - val_loss: 0.3463 - val_accuracy: 0.8587\n",
            "Epoch 58/200\n",
            "560/560 [==============================] - 1s 2ms/step - loss: 0.3311 - accuracy: 0.8620 - val_loss: 0.3474 - val_accuracy: 0.8587\n",
            "Epoch 59/200\n",
            "560/560 [==============================] - 1s 2ms/step - loss: 0.3339 - accuracy: 0.8608 - val_loss: 0.3512 - val_accuracy: 0.8537\n",
            "Epoch 60/200\n",
            "560/560 [==============================] - 1s 2ms/step - loss: 0.3297 - accuracy: 0.8691 - val_loss: 0.3477 - val_accuracy: 0.8579\n",
            "Epoch 61/200\n",
            "560/560 [==============================] - 1s 2ms/step - loss: 0.3439 - accuracy: 0.8530 - val_loss: 0.3467 - val_accuracy: 0.8612\n",
            "Epoch 62/200\n",
            "560/560 [==============================] - 1s 2ms/step - loss: 0.3356 - accuracy: 0.8677 - val_loss: 0.3490 - val_accuracy: 0.8592\n",
            "Epoch 63/200\n",
            "560/560 [==============================] - 1s 2ms/step - loss: 0.3301 - accuracy: 0.8605 - val_loss: 0.3478 - val_accuracy: 0.8596\n",
            "Epoch 64/200\n",
            "560/560 [==============================] - 1s 2ms/step - loss: 0.3353 - accuracy: 0.8599 - val_loss: 0.3478 - val_accuracy: 0.8558\n",
            "Epoch 65/200\n",
            "560/560 [==============================] - 1s 2ms/step - loss: 0.3382 - accuracy: 0.8636 - val_loss: 0.3461 - val_accuracy: 0.8608\n",
            "Epoch 66/200\n",
            "560/560 [==============================] - 1s 2ms/step - loss: 0.3243 - accuracy: 0.8646 - val_loss: 0.3478 - val_accuracy: 0.8604\n",
            "Epoch 67/200\n",
            "560/560 [==============================] - 1s 2ms/step - loss: 0.3313 - accuracy: 0.8625 - val_loss: 0.3478 - val_accuracy: 0.8608\n",
            "Epoch 68/200\n",
            "560/560 [==============================] - 1s 2ms/step - loss: 0.3440 - accuracy: 0.8552 - val_loss: 0.3470 - val_accuracy: 0.8596\n",
            "Epoch 69/200\n",
            "560/560 [==============================] - 1s 2ms/step - loss: 0.3240 - accuracy: 0.8645 - val_loss: 0.3472 - val_accuracy: 0.8608\n",
            "Epoch 70/200\n",
            "560/560 [==============================] - 1s 2ms/step - loss: 0.3304 - accuracy: 0.8636 - val_loss: 0.3463 - val_accuracy: 0.8629\n",
            "Epoch 71/200\n",
            "560/560 [==============================] - 1s 2ms/step - loss: 0.3394 - accuracy: 0.8588 - val_loss: 0.3517 - val_accuracy: 0.8521\n",
            "Epoch 72/200\n",
            "560/560 [==============================] - 1s 2ms/step - loss: 0.3195 - accuracy: 0.8699 - val_loss: 0.3463 - val_accuracy: 0.8612\n",
            "Epoch 73/200\n",
            "560/560 [==============================] - 1s 2ms/step - loss: 0.3281 - accuracy: 0.8653 - val_loss: 0.3470 - val_accuracy: 0.8600\n",
            "Epoch 74/200\n",
            "560/560 [==============================] - 1s 2ms/step - loss: 0.3455 - accuracy: 0.8594 - val_loss: 0.3469 - val_accuracy: 0.8592\n",
            "Epoch 75/200\n",
            "560/560 [==============================] - 1s 2ms/step - loss: 0.3312 - accuracy: 0.8649 - val_loss: 0.3489 - val_accuracy: 0.8579\n",
            "Epoch 76/200\n",
            "560/560 [==============================] - 1s 2ms/step - loss: 0.3223 - accuracy: 0.8653 - val_loss: 0.3505 - val_accuracy: 0.8558\n",
            "Epoch 77/200\n",
            "560/560 [==============================] - 1s 2ms/step - loss: 0.3266 - accuracy: 0.8657 - val_loss: 0.3493 - val_accuracy: 0.8587\n",
            "Epoch 78/200\n",
            "560/560 [==============================] - 1s 2ms/step - loss: 0.3324 - accuracy: 0.8634 - val_loss: 0.3495 - val_accuracy: 0.8608\n",
            "Epoch 79/200\n",
            "560/560 [==============================] - 1s 2ms/step - loss: 0.3345 - accuracy: 0.8612 - val_loss: 0.3470 - val_accuracy: 0.8612\n",
            "Epoch 80/200\n",
            "560/560 [==============================] - 1s 2ms/step - loss: 0.3235 - accuracy: 0.8635 - val_loss: 0.3486 - val_accuracy: 0.8567\n",
            "Epoch 81/200\n",
            "560/560 [==============================] - 1s 2ms/step - loss: 0.3324 - accuracy: 0.8614 - val_loss: 0.3518 - val_accuracy: 0.8617\n",
            "Epoch 82/200\n",
            "560/560 [==============================] - 1s 2ms/step - loss: 0.3299 - accuracy: 0.8598 - val_loss: 0.3461 - val_accuracy: 0.8633\n",
            "Epoch 83/200\n",
            "560/560 [==============================] - 1s 2ms/step - loss: 0.3349 - accuracy: 0.8622 - val_loss: 0.3484 - val_accuracy: 0.8592\n",
            "Epoch 84/200\n",
            "560/560 [==============================] - 1s 2ms/step - loss: 0.3271 - accuracy: 0.8603 - val_loss: 0.3495 - val_accuracy: 0.8617\n",
            "Epoch 85/200\n",
            "560/560 [==============================] - 1s 2ms/step - loss: 0.3245 - accuracy: 0.8612 - val_loss: 0.3495 - val_accuracy: 0.8617\n",
            "Epoch 86/200\n",
            "560/560 [==============================] - 1s 2ms/step - loss: 0.3379 - accuracy: 0.8600 - val_loss: 0.3507 - val_accuracy: 0.8583\n",
            "Epoch 87/200\n",
            "560/560 [==============================] - 1s 2ms/step - loss: 0.3307 - accuracy: 0.8622 - val_loss: 0.3490 - val_accuracy: 0.8571\n",
            "Epoch 88/200\n",
            "560/560 [==============================] - 1s 2ms/step - loss: 0.3232 - accuracy: 0.8666 - val_loss: 0.3498 - val_accuracy: 0.8600\n",
            "Epoch 89/200\n",
            "560/560 [==============================] - 1s 2ms/step - loss: 0.3264 - accuracy: 0.8705 - val_loss: 0.3495 - val_accuracy: 0.8562\n",
            "Epoch 90/200\n",
            "560/560 [==============================] - 1s 2ms/step - loss: 0.3295 - accuracy: 0.8629 - val_loss: 0.3514 - val_accuracy: 0.8600\n",
            "Epoch 91/200\n",
            "560/560 [==============================] - 1s 2ms/step - loss: 0.3325 - accuracy: 0.8591 - val_loss: 0.3489 - val_accuracy: 0.8587\n",
            "Epoch 92/200\n",
            "560/560 [==============================] - 1s 2ms/step - loss: 0.3449 - accuracy: 0.8565 - val_loss: 0.3488 - val_accuracy: 0.8604\n",
            "Epoch 93/200\n",
            "560/560 [==============================] - 1s 2ms/step - loss: 0.3240 - accuracy: 0.8599 - val_loss: 0.3494 - val_accuracy: 0.8600\n",
            "Epoch 94/200\n",
            "560/560 [==============================] - 1s 2ms/step - loss: 0.3319 - accuracy: 0.8638 - val_loss: 0.3492 - val_accuracy: 0.8592\n",
            "Epoch 95/200\n",
            "560/560 [==============================] - 1s 2ms/step - loss: 0.3407 - accuracy: 0.8561 - val_loss: 0.3508 - val_accuracy: 0.8571\n",
            "Epoch 96/200\n",
            "560/560 [==============================] - 1s 2ms/step - loss: 0.3475 - accuracy: 0.8521 - val_loss: 0.3495 - val_accuracy: 0.8596\n",
            "Epoch 97/200\n",
            "560/560 [==============================] - 1s 2ms/step - loss: 0.3273 - accuracy: 0.8638 - val_loss: 0.3504 - val_accuracy: 0.8608\n",
            "Epoch 98/200\n",
            "560/560 [==============================] - 1s 2ms/step - loss: 0.3311 - accuracy: 0.8646 - val_loss: 0.3533 - val_accuracy: 0.8558\n",
            "Epoch 99/200\n",
            "560/560 [==============================] - 1s 2ms/step - loss: 0.3237 - accuracy: 0.8700 - val_loss: 0.3490 - val_accuracy: 0.8587\n",
            "Epoch 100/200\n",
            "560/560 [==============================] - 1s 2ms/step - loss: 0.3185 - accuracy: 0.8739 - val_loss: 0.3485 - val_accuracy: 0.8592\n",
            "Epoch 101/200\n",
            "560/560 [==============================] - 1s 2ms/step - loss: 0.3324 - accuracy: 0.8626 - val_loss: 0.3514 - val_accuracy: 0.8571\n",
            "Epoch 102/200\n",
            "560/560 [==============================] - 1s 2ms/step - loss: 0.3329 - accuracy: 0.8663 - val_loss: 0.3493 - val_accuracy: 0.8604\n",
            "Epoch 103/200\n",
            "560/560 [==============================] - 1s 2ms/step - loss: 0.3203 - accuracy: 0.8713 - val_loss: 0.3514 - val_accuracy: 0.8567\n",
            "Epoch 104/200\n",
            "560/560 [==============================] - 1s 2ms/step - loss: 0.3407 - accuracy: 0.8611 - val_loss: 0.3526 - val_accuracy: 0.8550\n",
            "Epoch 105/200\n",
            "560/560 [==============================] - 1s 2ms/step - loss: 0.3239 - accuracy: 0.8669 - val_loss: 0.3501 - val_accuracy: 0.8596\n",
            "Epoch 106/200\n",
            "560/560 [==============================] - 1s 2ms/step - loss: 0.3372 - accuracy: 0.8617 - val_loss: 0.3493 - val_accuracy: 0.8617\n",
            "Epoch 107/200\n",
            "560/560 [==============================] - 1s 2ms/step - loss: 0.3237 - accuracy: 0.8625 - val_loss: 0.3491 - val_accuracy: 0.8587\n",
            "Epoch 108/200\n",
            "560/560 [==============================] - 1s 2ms/step - loss: 0.3277 - accuracy: 0.8624 - val_loss: 0.3510 - val_accuracy: 0.8583\n",
            "Epoch 109/200\n",
            "560/560 [==============================] - 1s 2ms/step - loss: 0.3382 - accuracy: 0.8630 - val_loss: 0.3519 - val_accuracy: 0.8571\n",
            "Epoch 110/200\n",
            "560/560 [==============================] - 1s 2ms/step - loss: 0.3341 - accuracy: 0.8602 - val_loss: 0.3495 - val_accuracy: 0.8596\n",
            "Epoch 111/200\n",
            "560/560 [==============================] - 1s 2ms/step - loss: 0.3173 - accuracy: 0.8676 - val_loss: 0.3499 - val_accuracy: 0.8600\n",
            "Epoch 112/200\n",
            "560/560 [==============================] - 1s 2ms/step - loss: 0.3474 - accuracy: 0.8550 - val_loss: 0.3500 - val_accuracy: 0.8604\n",
            "Epoch 113/200\n",
            "560/560 [==============================] - 1s 2ms/step - loss: 0.3165 - accuracy: 0.8722 - val_loss: 0.3547 - val_accuracy: 0.8567\n",
            "Epoch 114/200\n",
            "560/560 [==============================] - 1s 2ms/step - loss: 0.3300 - accuracy: 0.8631 - val_loss: 0.3497 - val_accuracy: 0.8592\n",
            "Epoch 115/200\n",
            "560/560 [==============================] - 1s 2ms/step - loss: 0.3398 - accuracy: 0.8555 - val_loss: 0.3504 - val_accuracy: 0.8579\n",
            "Epoch 116/200\n",
            "560/560 [==============================] - 1s 2ms/step - loss: 0.3360 - accuracy: 0.8594 - val_loss: 0.3502 - val_accuracy: 0.8575\n",
            "Epoch 117/200\n",
            "560/560 [==============================] - 1s 2ms/step - loss: 0.3333 - accuracy: 0.8639 - val_loss: 0.3500 - val_accuracy: 0.8587\n",
            "Epoch 118/200\n",
            "560/560 [==============================] - 1s 2ms/step - loss: 0.3236 - accuracy: 0.8658 - val_loss: 0.3522 - val_accuracy: 0.8567\n",
            "Epoch 119/200\n",
            "560/560 [==============================] - 1s 2ms/step - loss: 0.3263 - accuracy: 0.8692 - val_loss: 0.3512 - val_accuracy: 0.8596\n",
            "Epoch 120/200\n",
            "560/560 [==============================] - 1s 2ms/step - loss: 0.3239 - accuracy: 0.8676 - val_loss: 0.3527 - val_accuracy: 0.8571\n",
            "Epoch 121/200\n",
            "560/560 [==============================] - 1s 2ms/step - loss: 0.3438 - accuracy: 0.8580 - val_loss: 0.3517 - val_accuracy: 0.8567\n",
            "Epoch 122/200\n",
            "560/560 [==============================] - 1s 2ms/step - loss: 0.3192 - accuracy: 0.8689 - val_loss: 0.3516 - val_accuracy: 0.8604\n",
            "Epoch 123/200\n",
            "560/560 [==============================] - 1s 2ms/step - loss: 0.3314 - accuracy: 0.8624 - val_loss: 0.3488 - val_accuracy: 0.8604\n",
            "Epoch 124/200\n",
            "560/560 [==============================] - 1s 2ms/step - loss: 0.3243 - accuracy: 0.8691 - val_loss: 0.3517 - val_accuracy: 0.8567\n",
            "Epoch 125/200\n",
            "560/560 [==============================] - 1s 2ms/step - loss: 0.3324 - accuracy: 0.8572 - val_loss: 0.3485 - val_accuracy: 0.8612\n",
            "Epoch 126/200\n",
            "560/560 [==============================] - 1s 2ms/step - loss: 0.3410 - accuracy: 0.8570 - val_loss: 0.3511 - val_accuracy: 0.8587\n",
            "Epoch 127/200\n",
            "560/560 [==============================] - 1s 2ms/step - loss: 0.3302 - accuracy: 0.8627 - val_loss: 0.3513 - val_accuracy: 0.8592\n",
            "Epoch 128/200\n",
            "560/560 [==============================] - 1s 2ms/step - loss: 0.3453 - accuracy: 0.8549 - val_loss: 0.3509 - val_accuracy: 0.8567\n",
            "Epoch 129/200\n",
            "560/560 [==============================] - 1s 2ms/step - loss: 0.3268 - accuracy: 0.8651 - val_loss: 0.3533 - val_accuracy: 0.8583\n",
            "Epoch 130/200\n",
            "560/560 [==============================] - 1s 2ms/step - loss: 0.3408 - accuracy: 0.8582 - val_loss: 0.3514 - val_accuracy: 0.8587\n",
            "Epoch 131/200\n",
            "560/560 [==============================] - 1s 2ms/step - loss: 0.3114 - accuracy: 0.8703 - val_loss: 0.3531 - val_accuracy: 0.8579\n",
            "Epoch 132/200\n",
            "560/560 [==============================] - 1s 2ms/step - loss: 0.3400 - accuracy: 0.8584 - val_loss: 0.3513 - val_accuracy: 0.8579\n",
            "Epoch 133/200\n",
            "560/560 [==============================] - 1s 2ms/step - loss: 0.3166 - accuracy: 0.8693 - val_loss: 0.3510 - val_accuracy: 0.8579\n",
            "Epoch 134/200\n",
            "560/560 [==============================] - 1s 2ms/step - loss: 0.3211 - accuracy: 0.8652 - val_loss: 0.3518 - val_accuracy: 0.8575\n",
            "Epoch 135/200\n",
            "560/560 [==============================] - 1s 2ms/step - loss: 0.3299 - accuracy: 0.8658 - val_loss: 0.3501 - val_accuracy: 0.8579\n",
            "Epoch 136/200\n",
            "560/560 [==============================] - 1s 2ms/step - loss: 0.3359 - accuracy: 0.8632 - val_loss: 0.3488 - val_accuracy: 0.8604\n",
            "Epoch 137/200\n",
            "560/560 [==============================] - 1s 2ms/step - loss: 0.3300 - accuracy: 0.8639 - val_loss: 0.3522 - val_accuracy: 0.8558\n",
            "Epoch 138/200\n",
            "560/560 [==============================] - 1s 2ms/step - loss: 0.3266 - accuracy: 0.8690 - val_loss: 0.3506 - val_accuracy: 0.8596\n",
            "Epoch 139/200\n",
            "560/560 [==============================] - 1s 2ms/step - loss: 0.3418 - accuracy: 0.8598 - val_loss: 0.3517 - val_accuracy: 0.8596\n",
            "Epoch 140/200\n",
            "560/560 [==============================] - 1s 2ms/step - loss: 0.3533 - accuracy: 0.8524 - val_loss: 0.3510 - val_accuracy: 0.8579\n",
            "Epoch 141/200\n",
            "560/560 [==============================] - 1s 2ms/step - loss: 0.3282 - accuracy: 0.8643 - val_loss: 0.3531 - val_accuracy: 0.8554\n",
            "Epoch 142/200\n",
            "560/560 [==============================] - 1s 2ms/step - loss: 0.3321 - accuracy: 0.8652 - val_loss: 0.3532 - val_accuracy: 0.8567\n",
            "Epoch 143/200\n",
            "560/560 [==============================] - 1s 2ms/step - loss: 0.3261 - accuracy: 0.8651 - val_loss: 0.3548 - val_accuracy: 0.8533\n",
            "Epoch 144/200\n",
            "560/560 [==============================] - 1s 2ms/step - loss: 0.3196 - accuracy: 0.8707 - val_loss: 0.3526 - val_accuracy: 0.8558\n",
            "Epoch 145/200\n",
            "560/560 [==============================] - 1s 2ms/step - loss: 0.3423 - accuracy: 0.8596 - val_loss: 0.3510 - val_accuracy: 0.8587\n",
            "Epoch 146/200\n",
            "560/560 [==============================] - 1s 2ms/step - loss: 0.3246 - accuracy: 0.8658 - val_loss: 0.3520 - val_accuracy: 0.8571\n",
            "Epoch 147/200\n",
            "560/560 [==============================] - 1s 2ms/step - loss: 0.3395 - accuracy: 0.8602 - val_loss: 0.3538 - val_accuracy: 0.8562\n",
            "Epoch 148/200\n",
            "560/560 [==============================] - 1s 2ms/step - loss: 0.3271 - accuracy: 0.8601 - val_loss: 0.3535 - val_accuracy: 0.8571\n",
            "Epoch 149/200\n",
            "560/560 [==============================] - 1s 2ms/step - loss: 0.3249 - accuracy: 0.8698 - val_loss: 0.3538 - val_accuracy: 0.8546\n",
            "Epoch 150/200\n",
            "560/560 [==============================] - 1s 2ms/step - loss: 0.3330 - accuracy: 0.8635 - val_loss: 0.3505 - val_accuracy: 0.8567\n",
            "Epoch 151/200\n",
            "560/560 [==============================] - 1s 2ms/step - loss: 0.3381 - accuracy: 0.8596 - val_loss: 0.3550 - val_accuracy: 0.8558\n",
            "Epoch 152/200\n",
            "560/560 [==============================] - 1s 2ms/step - loss: 0.3314 - accuracy: 0.8654 - val_loss: 0.3519 - val_accuracy: 0.8571\n",
            "Epoch 153/200\n",
            "560/560 [==============================] - 1s 2ms/step - loss: 0.3386 - accuracy: 0.8600 - val_loss: 0.3517 - val_accuracy: 0.8579\n",
            "Epoch 154/200\n",
            "560/560 [==============================] - 1s 2ms/step - loss: 0.3306 - accuracy: 0.8710 - val_loss: 0.3556 - val_accuracy: 0.8529\n",
            "Epoch 155/200\n",
            "560/560 [==============================] - 1s 2ms/step - loss: 0.3378 - accuracy: 0.8628 - val_loss: 0.3551 - val_accuracy: 0.8550\n",
            "Epoch 156/200\n",
            "560/560 [==============================] - 1s 2ms/step - loss: 0.3327 - accuracy: 0.8605 - val_loss: 0.3533 - val_accuracy: 0.8558\n",
            "Epoch 157/200\n",
            "560/560 [==============================] - 1s 2ms/step - loss: 0.3233 - accuracy: 0.8673 - val_loss: 0.3533 - val_accuracy: 0.8575\n",
            "Epoch 158/200\n",
            "560/560 [==============================] - 1s 2ms/step - loss: 0.3372 - accuracy: 0.8638 - val_loss: 0.3522 - val_accuracy: 0.8579\n",
            "Epoch 159/200\n",
            "560/560 [==============================] - 1s 2ms/step - loss: 0.3127 - accuracy: 0.8715 - val_loss: 0.3537 - val_accuracy: 0.8562\n",
            "Epoch 160/200\n",
            "560/560 [==============================] - 1s 2ms/step - loss: 0.3303 - accuracy: 0.8693 - val_loss: 0.3562 - val_accuracy: 0.8562\n",
            "Epoch 161/200\n",
            "560/560 [==============================] - 1s 2ms/step - loss: 0.3457 - accuracy: 0.8578 - val_loss: 0.3516 - val_accuracy: 0.8571\n",
            "Epoch 162/200\n",
            "560/560 [==============================] - 1s 2ms/step - loss: 0.3266 - accuracy: 0.8685 - val_loss: 0.3538 - val_accuracy: 0.8554\n",
            "Epoch 163/200\n",
            "560/560 [==============================] - 1s 2ms/step - loss: 0.3338 - accuracy: 0.8586 - val_loss: 0.3537 - val_accuracy: 0.8567\n",
            "Epoch 164/200\n",
            "560/560 [==============================] - 1s 2ms/step - loss: 0.3261 - accuracy: 0.8653 - val_loss: 0.3525 - val_accuracy: 0.8571\n",
            "Epoch 165/200\n",
            "560/560 [==============================] - 1s 2ms/step - loss: 0.3269 - accuracy: 0.8693 - val_loss: 0.3526 - val_accuracy: 0.8583\n",
            "Epoch 166/200\n",
            "560/560 [==============================] - 1s 2ms/step - loss: 0.3182 - accuracy: 0.8692 - val_loss: 0.3531 - val_accuracy: 0.8562\n",
            "Epoch 167/200\n",
            "560/560 [==============================] - 1s 2ms/step - loss: 0.3390 - accuracy: 0.8655 - val_loss: 0.3525 - val_accuracy: 0.8592\n",
            "Epoch 168/200\n",
            "560/560 [==============================] - 1s 2ms/step - loss: 0.3321 - accuracy: 0.8636 - val_loss: 0.3519 - val_accuracy: 0.8571\n",
            "Epoch 169/200\n",
            "560/560 [==============================] - 1s 2ms/step - loss: 0.3320 - accuracy: 0.8624 - val_loss: 0.3520 - val_accuracy: 0.8583\n",
            "Epoch 170/200\n",
            "560/560 [==============================] - 1s 2ms/step - loss: 0.3269 - accuracy: 0.8675 - val_loss: 0.3538 - val_accuracy: 0.8562\n",
            "Epoch 171/200\n",
            "560/560 [==============================] - 1s 2ms/step - loss: 0.3324 - accuracy: 0.8611 - val_loss: 0.3519 - val_accuracy: 0.8592\n",
            "Epoch 172/200\n",
            "560/560 [==============================] - 1s 2ms/step - loss: 0.3360 - accuracy: 0.8629 - val_loss: 0.3521 - val_accuracy: 0.8579\n",
            "Epoch 173/200\n",
            "560/560 [==============================] - 1s 2ms/step - loss: 0.3305 - accuracy: 0.8658 - val_loss: 0.3541 - val_accuracy: 0.8542\n",
            "Epoch 174/200\n",
            "560/560 [==============================] - 1s 2ms/step - loss: 0.3225 - accuracy: 0.8681 - val_loss: 0.3518 - val_accuracy: 0.8575\n",
            "Epoch 175/200\n",
            "560/560 [==============================] - 1s 2ms/step - loss: 0.3251 - accuracy: 0.8658 - val_loss: 0.3546 - val_accuracy: 0.8567\n",
            "Epoch 176/200\n",
            "560/560 [==============================] - 1s 2ms/step - loss: 0.3205 - accuracy: 0.8692 - val_loss: 0.3547 - val_accuracy: 0.8558\n",
            "Epoch 177/200\n",
            "560/560 [==============================] - 1s 2ms/step - loss: 0.3220 - accuracy: 0.8653 - val_loss: 0.3545 - val_accuracy: 0.8558\n",
            "Epoch 178/200\n",
            "560/560 [==============================] - 1s 2ms/step - loss: 0.3242 - accuracy: 0.8672 - val_loss: 0.3523 - val_accuracy: 0.8596\n",
            "Epoch 179/200\n",
            "560/560 [==============================] - 1s 2ms/step - loss: 0.3358 - accuracy: 0.8637 - val_loss: 0.3509 - val_accuracy: 0.8575\n",
            "Epoch 180/200\n",
            "560/560 [==============================] - 1s 2ms/step - loss: 0.3338 - accuracy: 0.8607 - val_loss: 0.3504 - val_accuracy: 0.8596\n",
            "Epoch 181/200\n",
            "560/560 [==============================] - 1s 2ms/step - loss: 0.3248 - accuracy: 0.8678 - val_loss: 0.3544 - val_accuracy: 0.8542\n",
            "Epoch 182/200\n",
            "560/560 [==============================] - 1s 2ms/step - loss: 0.3288 - accuracy: 0.8695 - val_loss: 0.3539 - val_accuracy: 0.8554\n",
            "Epoch 183/200\n",
            "560/560 [==============================] - 1s 2ms/step - loss: 0.3296 - accuracy: 0.8703 - val_loss: 0.3539 - val_accuracy: 0.8558\n",
            "Epoch 184/200\n",
            "560/560 [==============================] - 1s 2ms/step - loss: 0.3299 - accuracy: 0.8670 - val_loss: 0.3537 - val_accuracy: 0.8546\n",
            "Epoch 185/200\n",
            "560/560 [==============================] - 1s 2ms/step - loss: 0.3305 - accuracy: 0.8613 - val_loss: 0.3524 - val_accuracy: 0.8596\n",
            "Epoch 186/200\n",
            "560/560 [==============================] - 1s 2ms/step - loss: 0.3434 - accuracy: 0.8582 - val_loss: 0.3524 - val_accuracy: 0.8587\n",
            "Epoch 187/200\n",
            "560/560 [==============================] - 1s 2ms/step - loss: 0.3327 - accuracy: 0.8593 - val_loss: 0.3570 - val_accuracy: 0.8558\n",
            "Epoch 188/200\n",
            "560/560 [==============================] - 1s 2ms/step - loss: 0.3205 - accuracy: 0.8693 - val_loss: 0.3561 - val_accuracy: 0.8550\n",
            "Epoch 189/200\n",
            "560/560 [==============================] - 1s 2ms/step - loss: 0.3249 - accuracy: 0.8701 - val_loss: 0.3537 - val_accuracy: 0.8587\n",
            "Epoch 190/200\n",
            "560/560 [==============================] - 1s 2ms/step - loss: 0.3424 - accuracy: 0.8619 - val_loss: 0.3558 - val_accuracy: 0.8546\n",
            "Epoch 191/200\n",
            "560/560 [==============================] - 1s 2ms/step - loss: 0.3376 - accuracy: 0.8566 - val_loss: 0.3529 - val_accuracy: 0.8579\n",
            "Epoch 192/200\n",
            "560/560 [==============================] - 1s 2ms/step - loss: 0.3403 - accuracy: 0.8664 - val_loss: 0.3528 - val_accuracy: 0.8587\n",
            "Epoch 193/200\n",
            "560/560 [==============================] - 1s 2ms/step - loss: 0.3359 - accuracy: 0.8592 - val_loss: 0.3526 - val_accuracy: 0.8579\n",
            "Epoch 194/200\n",
            "560/560 [==============================] - 1s 2ms/step - loss: 0.3319 - accuracy: 0.8667 - val_loss: 0.3534 - val_accuracy: 0.8546\n",
            "Epoch 195/200\n",
            "560/560 [==============================] - 1s 2ms/step - loss: 0.3336 - accuracy: 0.8590 - val_loss: 0.3523 - val_accuracy: 0.8600\n",
            "Epoch 196/200\n",
            "560/560 [==============================] - 1s 2ms/step - loss: 0.3140 - accuracy: 0.8736 - val_loss: 0.3555 - val_accuracy: 0.8571\n",
            "Epoch 197/200\n",
            "560/560 [==============================] - 1s 2ms/step - loss: 0.3318 - accuracy: 0.8668 - val_loss: 0.3537 - val_accuracy: 0.8567\n",
            "Epoch 198/200\n",
            "560/560 [==============================] - 1s 2ms/step - loss: 0.3508 - accuracy: 0.8532 - val_loss: 0.3528 - val_accuracy: 0.8583\n",
            "Epoch 199/200\n",
            "560/560 [==============================] - 1s 2ms/step - loss: 0.3412 - accuracy: 0.8627 - val_loss: 0.3569 - val_accuracy: 0.8546\n",
            "Epoch 200/200\n",
            "560/560 [==============================] - 1s 2ms/step - loss: 0.3244 - accuracy: 0.8682 - val_loss: 0.3541 - val_accuracy: 0.8546\n"
          ],
          "name": "stdout"
        }
      ]
    },
    {
      "cell_type": "code",
      "metadata": {
        "colab": {
          "base_uri": "https://localhost:8080/"
        },
        "id": "JlguXZYycAkT",
        "outputId": "053f63a8-9779-4df6-f2bd-0253f7bde32f"
      },
      "source": [
        "model_history.history.keys()"
      ],
      "execution_count": null,
      "outputs": [
        {
          "output_type": "execute_result",
          "data": {
            "text/plain": [
              "dict_keys(['loss', 'accuracy', 'val_loss', 'val_accuracy'])"
            ]
          },
          "metadata": {
            "tags": []
          },
          "execution_count": 25
        }
      ]
    },
    {
      "cell_type": "code",
      "metadata": {
        "colab": {
          "base_uri": "https://localhost:8080/",
          "height": 295
        },
        "id": "T4dyYM0pcn_h",
        "outputId": "108dfebf-94bd-4235-f7df-73d57868dd79"
      },
      "source": [
        "plt.plot( model_history.history['accuracy'])\n",
        "plt.plot( model_history.history['val_accuracy'])\n",
        "plt.title('model_accuracy')\n",
        "plt.ylabel('accuracy')\n",
        "plt.xlabel('epoch')\n",
        "plt.legend(['train','test'],loc='upper left')\n",
        "plt.show()"
      ],
      "execution_count": null,
      "outputs": [
        {
          "output_type": "display_data",
          "data": {
            "image/png": "[encoded data removed]",
            "text/plain": [
              "<Figure size 432x288 with 1 Axes>"
            ]
          },
          "metadata": {
            "tags": [],
            "needs_background": "light"
          }
        }
      ]
    },
    {
      "cell_type": "code",
      "metadata": {
        "id": "y18P-YzVd61U"
      },
      "source": [
        "y_pred = classifier.predict(X_test)"
      ],
      "execution_count": null,
      "outputs": []
    },
    {
      "cell_type": "code",
      "metadata": {
        "id": "KM4tQOvgfUO2"
      },
      "source": [
        "y_pred = (y_pred >0.5)"
      ],
      "execution_count": null,
      "outputs": []
    },
    {
      "cell_type": "code",
      "metadata": {
        "colab": {
          "base_uri": "https://localhost:8080/"
        },
        "id": "rtU3t0QYfiNY",
        "outputId": "6a664213-ffd4-40be-92ec-e9beb5a3b322"
      },
      "source": [
        "y_pred"
      ],
      "execution_count": null,
      "outputs": [
        {
          "output_type": "execute_result",
          "data": {
            "text/plain": [
              "array([[False],\n",
              "       [False],\n",
              "       [False],\n",
              "       ...,\n",
              "       [False],\n",
              "       [False],\n",
              "       [ True]])"
            ]
          },
          "metadata": {
            "tags": []
          },
          "execution_count": 29
        }
      ]
    },
    {
      "cell_type": "code",
      "metadata": {
        "id": "-iLXxv1ffjN1"
      },
      "source": [
        "from sklearn.metrics import classification_report"
      ],
      "execution_count": null,
      "outputs": []
    },
    {
      "cell_type": "code",
      "metadata": {
        "colab": {
          "base_uri": "https://localhost:8080/"
        },
        "id": "fNWcqvonf0ic",
        "outputId": "6b7f766d-90fa-4d11-a088-36a6f0ed440d"
      },
      "source": [
        "print(classification_report(y_test,y_pred))"
      ],
      "execution_count": null,
      "outputs": [
        {
          "output_type": "stream",
          "text": [
            "              precision    recall  f1-score   support\n",
            "\n",
            "           0       0.87      0.97      0.92      1577\n",
            "           1       0.79      0.48      0.60       423\n",
            "\n",
            "    accuracy                           0.86      2000\n",
            "   macro avg       0.83      0.72      0.76      2000\n",
            "weighted avg       0.86      0.86      0.85      2000\n",
            "\n"
          ],
          "name": "stdout"
        }
      ]
    },
    {
      "cell_type": "code",
      "metadata": {
        "id": "zb2WypZsf8-V"
      },
      "source": [
        ""
      ],
      "execution_count": null,
      "outputs": []
    }
  ]
}