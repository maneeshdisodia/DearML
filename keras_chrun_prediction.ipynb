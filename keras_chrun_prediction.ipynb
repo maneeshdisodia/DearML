{
  "nbformat": 4,
  "nbformat_minor": 0,
  "metadata": {
    "colab": {
      "name": "keras_1.ipynb",
      "provenance": [],
      "authorship_tag": "ABX9TyO8dFdrgxA5ukWYg+R9Ohyh",
      "include_colab_link": true
    },
    "kernelspec": {
      "name": "python3",
      "display_name": "Python 3"
    },
    "language_info": {
      "name": "python"
    }
  },
  "cells": [
    {
      "cell_type": "markdown",
      "metadata": {
        "id": "view-in-github",
        "colab_type": "text"
      },
      "source": [
        "<a href=\"https://colab.research.google.com/github/maneeshdisodia/DearML/blob/master/keras_chrun_prediction.ipynb\" target=\"_parent\"><img src=\"https://colab.research.google.com/assets/colab-badge.svg\" alt=\"Open In Colab\"/></a>"
      ]
    },
    {
      "cell_type": "code",
      "metadata": {
        "id": "JmLqU2ADRBdg"
      },
      "source": [
        "import numpy as np"
      ],
      "execution_count": 1,
      "outputs": []
    },
    {
      "cell_type": "code",
      "metadata": {
        "id": "IEPnBrkCRNSM"
      },
      "source": [
        "import pandas as pd"
      ],
      "execution_count": 2,
      "outputs": []
    },
    {
      "cell_type": "code",
      "metadata": {
        "id": "9WDnTlvyRQF2"
      },
      "source": [
        "import matplotlib.pyplot as plt"
      ],
      "execution_count": 3,
      "outputs": []
    },
    {
      "cell_type": "code",
      "metadata": {
        "id": "cl0dkMXaRWsX"
      },
      "source": [
        "dataset = pd.read_csv('https://raw.githubusercontent.com/krishnaik06/Complete-Deep-Learning/master/ANN/Churn_Modelling.csv')"
      ],
      "execution_count": 4,
      "outputs": []
    },
    {
      "cell_type": "code",
      "metadata": {
        "colab": {
          "base_uri": "https://localhost:8080/",
          "height": 422
        },
        "id": "mc8DU1LOS2Ke",
        "outputId": "ba201a5c-c579-4468-f55c-dd08571c3a93"
      },
      "source": [
        "dataset"
      ],
      "execution_count": 5,
      "outputs": [
        {
          "output_type": "execute_result",
          "data": {
            "text/html": [
              "<div>\n",
              "<style scoped>\n",
              "    .dataframe tbody tr th:only-of-type {\n",
              "        vertical-align: middle;\n",
              "    }\n",
              "\n",
              "    .dataframe tbody tr th {\n",
              "        vertical-align: top;\n",
              "    }\n",
              "\n",
              "    .dataframe thead th {\n",
              "        text-align: right;\n",
              "    }\n",
              "</style>\n",
              "<table border=\"1\" class=\"dataframe\">\n",
              "  <thead>\n",
              "    <tr style=\"text-align: right;\">\n",
              "      <th></th>\n",
              "      <th>RowNumber</th>\n",
              "      <th>CustomerId</th>\n",
              "      <th>Surname</th>\n",
              "      <th>CreditScore</th>\n",
              "      <th>Geography</th>\n",
              "      <th>Gender</th>\n",
              "      <th>Age</th>\n",
              "      <th>Tenure</th>\n",
              "      <th>Balance</th>\n",
              "      <th>NumOfProducts</th>\n",
              "      <th>HasCrCard</th>\n",
              "      <th>IsActiveMember</th>\n",
              "      <th>EstimatedSalary</th>\n",
              "      <th>Exited</th>\n",
              "    </tr>\n",
              "  </thead>\n",
              "  <tbody>\n",
              "    <tr>\n",
              "      <th>0</th>\n",
              "      <td>1</td>\n",
              "      <td>15634602</td>\n",
              "      <td>Hargrave</td>\n",
              "      <td>619</td>\n",
              "      <td>France</td>\n",
              "      <td>Female</td>\n",
              "      <td>42</td>\n",
              "      <td>2</td>\n",
              "      <td>0.00</td>\n",
              "      <td>1</td>\n",
              "      <td>1</td>\n",
              "      <td>1</td>\n",
              "      <td>101348.88</td>\n",
              "      <td>1</td>\n",
              "    </tr>\n",
              "    <tr>\n",
              "      <th>1</th>\n",
              "      <td>2</td>\n",
              "      <td>15647311</td>\n",
              "      <td>Hill</td>\n",
              "      <td>608</td>\n",
              "      <td>Spain</td>\n",
              "      <td>Female</td>\n",
              "      <td>41</td>\n",
              "      <td>1</td>\n",
              "      <td>83807.86</td>\n",
              "      <td>1</td>\n",
              "      <td>0</td>\n",
              "      <td>1</td>\n",
              "      <td>112542.58</td>\n",
              "      <td>0</td>\n",
              "    </tr>\n",
              "    <tr>\n",
              "      <th>2</th>\n",
              "      <td>3</td>\n",
              "      <td>15619304</td>\n",
              "      <td>Onio</td>\n",
              "      <td>502</td>\n",
              "      <td>France</td>\n",
              "      <td>Female</td>\n",
              "      <td>42</td>\n",
              "      <td>8</td>\n",
              "      <td>159660.80</td>\n",
              "      <td>3</td>\n",
              "      <td>1</td>\n",
              "      <td>0</td>\n",
              "      <td>113931.57</td>\n",
              "      <td>1</td>\n",
              "    </tr>\n",
              "    <tr>\n",
              "      <th>3</th>\n",
              "      <td>4</td>\n",
              "      <td>15701354</td>\n",
              "      <td>Boni</td>\n",
              "      <td>699</td>\n",
              "      <td>France</td>\n",
              "      <td>Female</td>\n",
              "      <td>39</td>\n",
              "      <td>1</td>\n",
              "      <td>0.00</td>\n",
              "      <td>2</td>\n",
              "      <td>0</td>\n",
              "      <td>0</td>\n",
              "      <td>93826.63</td>\n",
              "      <td>0</td>\n",
              "    </tr>\n",
              "    <tr>\n",
              "      <th>4</th>\n",
              "      <td>5</td>\n",
              "      <td>15737888</td>\n",
              "      <td>Mitchell</td>\n",
              "      <td>850</td>\n",
              "      <td>Spain</td>\n",
              "      <td>Female</td>\n",
              "      <td>43</td>\n",
              "      <td>2</td>\n",
              "      <td>125510.82</td>\n",
              "      <td>1</td>\n",
              "      <td>1</td>\n",
              "      <td>1</td>\n",
              "      <td>79084.10</td>\n",
              "      <td>0</td>\n",
              "    </tr>\n",
              "    <tr>\n",
              "      <th>...</th>\n",
              "      <td>...</td>\n",
              "      <td>...</td>\n",
              "      <td>...</td>\n",
              "      <td>...</td>\n",
              "      <td>...</td>\n",
              "      <td>...</td>\n",
              "      <td>...</td>\n",
              "      <td>...</td>\n",
              "      <td>...</td>\n",
              "      <td>...</td>\n",
              "      <td>...</td>\n",
              "      <td>...</td>\n",
              "      <td>...</td>\n",
              "      <td>...</td>\n",
              "    </tr>\n",
              "    <tr>\n",
              "      <th>9995</th>\n",
              "      <td>9996</td>\n",
              "      <td>15606229</td>\n",
              "      <td>Obijiaku</td>\n",
              "      <td>771</td>\n",
              "      <td>France</td>\n",
              "      <td>Male</td>\n",
              "      <td>39</td>\n",
              "      <td>5</td>\n",
              "      <td>0.00</td>\n",
              "      <td>2</td>\n",
              "      <td>1</td>\n",
              "      <td>0</td>\n",
              "      <td>96270.64</td>\n",
              "      <td>0</td>\n",
              "    </tr>\n",
              "    <tr>\n",
              "      <th>9996</th>\n",
              "      <td>9997</td>\n",
              "      <td>15569892</td>\n",
              "      <td>Johnstone</td>\n",
              "      <td>516</td>\n",
              "      <td>France</td>\n",
              "      <td>Male</td>\n",
              "      <td>35</td>\n",
              "      <td>10</td>\n",
              "      <td>57369.61</td>\n",
              "      <td>1</td>\n",
              "      <td>1</td>\n",
              "      <td>1</td>\n",
              "      <td>101699.77</td>\n",
              "      <td>0</td>\n",
              "    </tr>\n",
              "    <tr>\n",
              "      <th>9997</th>\n",
              "      <td>9998</td>\n",
              "      <td>15584532</td>\n",
              "      <td>Liu</td>\n",
              "      <td>709</td>\n",
              "      <td>France</td>\n",
              "      <td>Female</td>\n",
              "      <td>36</td>\n",
              "      <td>7</td>\n",
              "      <td>0.00</td>\n",
              "      <td>1</td>\n",
              "      <td>0</td>\n",
              "      <td>1</td>\n",
              "      <td>42085.58</td>\n",
              "      <td>1</td>\n",
              "    </tr>\n",
              "    <tr>\n",
              "      <th>9998</th>\n",
              "      <td>9999</td>\n",
              "      <td>15682355</td>\n",
              "      <td>Sabbatini</td>\n",
              "      <td>772</td>\n",
              "      <td>Germany</td>\n",
              "      <td>Male</td>\n",
              "      <td>42</td>\n",
              "      <td>3</td>\n",
              "      <td>75075.31</td>\n",
              "      <td>2</td>\n",
              "      <td>1</td>\n",
              "      <td>0</td>\n",
              "      <td>92888.52</td>\n",
              "      <td>1</td>\n",
              "    </tr>\n",
              "    <tr>\n",
              "      <th>9999</th>\n",
              "      <td>10000</td>\n",
              "      <td>15628319</td>\n",
              "      <td>Walker</td>\n",
              "      <td>792</td>\n",
              "      <td>France</td>\n",
              "      <td>Female</td>\n",
              "      <td>28</td>\n",
              "      <td>4</td>\n",
              "      <td>130142.79</td>\n",
              "      <td>1</td>\n",
              "      <td>1</td>\n",
              "      <td>0</td>\n",
              "      <td>38190.78</td>\n",
              "      <td>0</td>\n",
              "    </tr>\n",
              "  </tbody>\n",
              "</table>\n",
              "<p>10000 rows × 14 columns</p>\n",
              "</div>"
            ],
            "text/plain": [
              "      RowNumber  CustomerId    Surname  ...  IsActiveMember EstimatedSalary Exited\n",
              "0             1    15634602   Hargrave  ...               1       101348.88      1\n",
              "1             2    15647311       Hill  ...               1       112542.58      0\n",
              "2             3    15619304       Onio  ...               0       113931.57      1\n",
              "3             4    15701354       Boni  ...               0        93826.63      0\n",
              "4             5    15737888   Mitchell  ...               1        79084.10      0\n",
              "...         ...         ...        ...  ...             ...             ...    ...\n",
              "9995       9996    15606229   Obijiaku  ...               0        96270.64      0\n",
              "9996       9997    15569892  Johnstone  ...               1       101699.77      0\n",
              "9997       9998    15584532        Liu  ...               1        42085.58      1\n",
              "9998       9999    15682355  Sabbatini  ...               0        92888.52      1\n",
              "9999      10000    15628319     Walker  ...               0        38190.78      0\n",
              "\n",
              "[10000 rows x 14 columns]"
            ]
          },
          "metadata": {
            "tags": []
          },
          "execution_count": 5
        }
      ]
    },
    {
      "cell_type": "code",
      "metadata": {
        "id": "ynJPW0fUTJ4P"
      },
      "source": [
        "X =dataset.iloc[:,3:13]\n",
        "y = dataset.iloc[:,13]"
      ],
      "execution_count": 6,
      "outputs": []
    },
    {
      "cell_type": "code",
      "metadata": {
        "id": "bnuKOAXtrjXz"
      },
      "source": [
        "geography =pd.get_dummies(X.Geography,drop_first = True)\n",
        "gender =pd.get_dummies(X.Gender,drop_first = True)"
      ],
      "execution_count": 7,
      "outputs": []
    },
    {
      "cell_type": "code",
      "metadata": {
        "id": "qS6m2QeJsCrJ"
      },
      "source": [
        "X =pd.concat([X,geography,gender],axis =1)"
      ],
      "execution_count": 8,
      "outputs": []
    },
    {
      "cell_type": "code",
      "metadata": {
        "id": "dzYAVaNNswIM"
      },
      "source": [
        "X.drop(['Geography','Gender'],axis =1, inplace =True)"
      ],
      "execution_count": 9,
      "outputs": []
    },
    {
      "cell_type": "code",
      "metadata": {
        "colab": {
          "base_uri": "https://localhost:8080/"
        },
        "id": "0UQYMd6htAOf",
        "outputId": "7285943d-1963-41a0-a9d4-0cfce02e1902"
      },
      "source": [
        "X.columns"
      ],
      "execution_count": 10,
      "outputs": [
        {
          "output_type": "execute_result",
          "data": {
            "text/plain": [
              "Index(['CreditScore', 'Age', 'Tenure', 'Balance', 'NumOfProducts', 'HasCrCard',\n",
              "       'IsActiveMember', 'EstimatedSalary', 'Germany', 'Spain', 'Male'],\n",
              "      dtype='object')"
            ]
          },
          "metadata": {
            "tags": []
          },
          "execution_count": 10
        }
      ]
    },
    {
      "cell_type": "code",
      "metadata": {
        "id": "61u-aeyytCNI"
      },
      "source": [
        "from sklearn.model_selection import train_test_split   "
      ],
      "execution_count": 11,
      "outputs": []
    },
    {
      "cell_type": "code",
      "metadata": {
        "id": "cdhpqyUytXQj"
      },
      "source": [
        "X_train,X_test,y_train,y_test =train_test_split(X,y,test_size =0.2,random_state =101)"
      ],
      "execution_count": 12,
      "outputs": []
    },
    {
      "cell_type": "code",
      "metadata": {
        "id": "tzW3uYyItxMp"
      },
      "source": [
        "from sklearn.preprocessing import StandardScaler"
      ],
      "execution_count": 13,
      "outputs": []
    },
    {
      "cell_type": "code",
      "metadata": {
        "id": "lfDLDlYnuVB5"
      },
      "source": [
        "sc = StandardScaler()"
      ],
      "execution_count": 14,
      "outputs": []
    },
    {
      "cell_type": "code",
      "metadata": {
        "id": "C7Olm-87umPF"
      },
      "source": [
        "X_train =sc.fit_transform(X_train)"
      ],
      "execution_count": 15,
      "outputs": []
    },
    {
      "cell_type": "code",
      "metadata": {
        "id": "0h4nZPiRuusq"
      },
      "source": [
        "X_test = sc.fit_transform(X_test)"
      ],
      "execution_count": 16,
      "outputs": []
    },
    {
      "cell_type": "code",
      "metadata": {
        "id": "MrSLBKSxwQ-2"
      },
      "source": [
        "import  tensorflow.keras as keras"
      ],
      "execution_count": 17,
      "outputs": []
    },
    {
      "cell_type": "code",
      "metadata": {
        "id": "A-bYJLDfYHAT"
      },
      "source": [
        "from keras import Sequential\n",
        "from keras.layers import Dense\n",
        "from keras.layers import LeakyReLU,PReLU,ELU"
      ],
      "execution_count": 18,
      "outputs": []
    },
    {
      "cell_type": "code",
      "metadata": {
        "id": "lp8PSJtLZddF"
      },
      "source": [
        "from keras.layers import Dropout"
      ],
      "execution_count": 19,
      "outputs": []
    },
    {
      "cell_type": "code",
      "metadata": {
        "id": "s9gP35iDZkas"
      },
      "source": [
        "classifier = Sequential()"
      ],
      "execution_count": 20,
      "outputs": []
    },
    {
      "cell_type": "code",
      "metadata": {
        "id": "jFgbTI5zZzda"
      },
      "source": [
        "classifier.add(Dense(units =6,kernel_initializer = \"he_uniform\",activation='relu',input_dim =11))"
      ],
      "execution_count": 24,
      "outputs": []
    },
    {
      "cell_type": "code",
      "metadata": {
        "id": "JtnxKoRwaT7e"
      },
      "source": [
        "classifier.add(Dense(units =6,kernel_initializer = \"he_uniform\",activation='relu'))\n",
        "classifier.add(Dense(units =1,kernel_initializer = \"glorot_uniform\",activation='sigmoid'))"
      ],
      "execution_count": 25,
      "outputs": []
    },
    {
      "cell_type": "code",
      "metadata": {
        "id": "rprPsDQKbG7s"
      },
      "source": [
        "classifier.compile(optimizer = 'adam',loss = 'binary_crossentropy',metrics=['accuracy'])"
      ],
      "execution_count": 26,
      "outputs": []
    },
    {
      "cell_type": "code",
      "metadata": {
        "colab": {
          "base_uri": "https://localhost:8080/"
        },
        "id": "BjcRbRQdbkpz",
        "outputId": "1f178525-e6d3-4d39-f2b8-1d10eb63b415"
      },
      "source": [
        "model_history = classifier.fit(X_train,y_train,validation_split =0.3,batch_size = 10,epochs=100)"
      ],
      "execution_count": 27,
      "outputs": [
        {
          "output_type": "stream",
          "text": [
            "Epoch 1/100\n",
            "560/560 [==============================] - 16s 3ms/step - loss: 0.6052 - accuracy: 0.7334 - val_loss: 0.4894 - val_accuracy: 0.8008\n",
            "Epoch 2/100\n",
            "560/560 [==============================] - 1s 2ms/step - loss: 0.4904 - accuracy: 0.7919 - val_loss: 0.4612 - val_accuracy: 0.8008\n",
            "Epoch 3/100\n",
            "560/560 [==============================] - 1s 2ms/step - loss: 0.4523 - accuracy: 0.8082 - val_loss: 0.4505 - val_accuracy: 0.8008\n",
            "Epoch 4/100\n",
            "560/560 [==============================] - 1s 2ms/step - loss: 0.4543 - accuracy: 0.7965 - val_loss: 0.4378 - val_accuracy: 0.8025\n",
            "Epoch 5/100\n",
            "560/560 [==============================] - 1s 2ms/step - loss: 0.4407 - accuracy: 0.8018 - val_loss: 0.4324 - val_accuracy: 0.8021\n",
            "Epoch 6/100\n",
            "560/560 [==============================] - 1s 2ms/step - loss: 0.4215 - accuracy: 0.8121 - val_loss: 0.4303 - val_accuracy: 0.8008\n",
            "Epoch 7/100\n",
            "560/560 [==============================] - 1s 2ms/step - loss: 0.4343 - accuracy: 0.8055 - val_loss: 0.4271 - val_accuracy: 0.8046\n",
            "Epoch 8/100\n",
            "560/560 [==============================] - 1s 2ms/step - loss: 0.4319 - accuracy: 0.8017 - val_loss: 0.4250 - val_accuracy: 0.8058\n",
            "Epoch 9/100\n",
            "560/560 [==============================] - 1s 2ms/step - loss: 0.4263 - accuracy: 0.8079 - val_loss: 0.4222 - val_accuracy: 0.8075\n",
            "Epoch 10/100\n",
            "560/560 [==============================] - 1s 1ms/step - loss: 0.4259 - accuracy: 0.8029 - val_loss: 0.4198 - val_accuracy: 0.8071\n",
            "Epoch 11/100\n",
            "560/560 [==============================] - 1s 2ms/step - loss: 0.4063 - accuracy: 0.8222 - val_loss: 0.4203 - val_accuracy: 0.8067\n",
            "Epoch 12/100\n",
            "560/560 [==============================] - 1s 2ms/step - loss: 0.4206 - accuracy: 0.8125 - val_loss: 0.4159 - val_accuracy: 0.8046\n",
            "Epoch 13/100\n",
            "560/560 [==============================] - 1s 2ms/step - loss: 0.3956 - accuracy: 0.8228 - val_loss: 0.4102 - val_accuracy: 0.8062\n",
            "Epoch 14/100\n",
            "560/560 [==============================] - 1s 2ms/step - loss: 0.4015 - accuracy: 0.8201 - val_loss: 0.4053 - val_accuracy: 0.8092\n",
            "Epoch 15/100\n",
            "560/560 [==============================] - 1s 2ms/step - loss: 0.3996 - accuracy: 0.8237 - val_loss: 0.3951 - val_accuracy: 0.8192\n",
            "Epoch 16/100\n",
            "560/560 [==============================] - 1s 2ms/step - loss: 0.3958 - accuracy: 0.8273 - val_loss: 0.3832 - val_accuracy: 0.8342\n",
            "Epoch 17/100\n",
            "560/560 [==============================] - 1s 2ms/step - loss: 0.3695 - accuracy: 0.8495 - val_loss: 0.3772 - val_accuracy: 0.8375\n",
            "Epoch 18/100\n",
            "560/560 [==============================] - 1s 2ms/step - loss: 0.3548 - accuracy: 0.8535 - val_loss: 0.3716 - val_accuracy: 0.8446\n",
            "Epoch 19/100\n",
            "560/560 [==============================] - 1s 2ms/step - loss: 0.3639 - accuracy: 0.8511 - val_loss: 0.3654 - val_accuracy: 0.8492\n",
            "Epoch 20/100\n",
            "560/560 [==============================] - 1s 2ms/step - loss: 0.3640 - accuracy: 0.8451 - val_loss: 0.3603 - val_accuracy: 0.8512\n",
            "Epoch 21/100\n",
            "560/560 [==============================] - 1s 1ms/step - loss: 0.3561 - accuracy: 0.8534 - val_loss: 0.3589 - val_accuracy: 0.8529\n",
            "Epoch 22/100\n",
            "560/560 [==============================] - 1s 2ms/step - loss: 0.3422 - accuracy: 0.8578 - val_loss: 0.3602 - val_accuracy: 0.8487\n",
            "Epoch 23/100\n",
            "560/560 [==============================] - 1s 2ms/step - loss: 0.3423 - accuracy: 0.8573 - val_loss: 0.3541 - val_accuracy: 0.8525\n",
            "Epoch 24/100\n",
            "560/560 [==============================] - 1s 2ms/step - loss: 0.3374 - accuracy: 0.8555 - val_loss: 0.3534 - val_accuracy: 0.8533\n",
            "Epoch 25/100\n",
            "560/560 [==============================] - 1s 2ms/step - loss: 0.3369 - accuracy: 0.8603 - val_loss: 0.3513 - val_accuracy: 0.8529\n",
            "Epoch 26/100\n",
            "560/560 [==============================] - 1s 2ms/step - loss: 0.3419 - accuracy: 0.8629 - val_loss: 0.3484 - val_accuracy: 0.8546\n",
            "Epoch 27/100\n",
            "560/560 [==============================] - 1s 2ms/step - loss: 0.3284 - accuracy: 0.8642 - val_loss: 0.3465 - val_accuracy: 0.8550\n",
            "Epoch 28/100\n",
            "560/560 [==============================] - 1s 2ms/step - loss: 0.3327 - accuracy: 0.8618 - val_loss: 0.3489 - val_accuracy: 0.8537\n",
            "Epoch 29/100\n",
            "560/560 [==============================] - 1s 2ms/step - loss: 0.3369 - accuracy: 0.8583 - val_loss: 0.3478 - val_accuracy: 0.8554\n",
            "Epoch 30/100\n",
            "560/560 [==============================] - 1s 2ms/step - loss: 0.3237 - accuracy: 0.8711 - val_loss: 0.3465 - val_accuracy: 0.8558\n",
            "Epoch 31/100\n",
            "560/560 [==============================] - 1s 2ms/step - loss: 0.3323 - accuracy: 0.8585 - val_loss: 0.3475 - val_accuracy: 0.8550\n",
            "Epoch 32/100\n",
            "560/560 [==============================] - 1s 2ms/step - loss: 0.3371 - accuracy: 0.8598 - val_loss: 0.3448 - val_accuracy: 0.8571\n",
            "Epoch 33/100\n",
            "560/560 [==============================] - 1s 2ms/step - loss: 0.3335 - accuracy: 0.8609 - val_loss: 0.3447 - val_accuracy: 0.8596\n",
            "Epoch 34/100\n",
            "560/560 [==============================] - 1s 2ms/step - loss: 0.3237 - accuracy: 0.8683 - val_loss: 0.3459 - val_accuracy: 0.8592\n",
            "Epoch 35/100\n",
            "560/560 [==============================] - 1s 2ms/step - loss: 0.3262 - accuracy: 0.8664 - val_loss: 0.3482 - val_accuracy: 0.8562\n",
            "Epoch 36/100\n",
            "560/560 [==============================] - 1s 2ms/step - loss: 0.3281 - accuracy: 0.8638 - val_loss: 0.3500 - val_accuracy: 0.8575\n",
            "Epoch 37/100\n",
            "560/560 [==============================] - 1s 2ms/step - loss: 0.3199 - accuracy: 0.8668 - val_loss: 0.3480 - val_accuracy: 0.8575\n",
            "Epoch 38/100\n",
            "560/560 [==============================] - 1s 2ms/step - loss: 0.3383 - accuracy: 0.8584 - val_loss: 0.3442 - val_accuracy: 0.8587\n",
            "Epoch 39/100\n",
            "560/560 [==============================] - 1s 2ms/step - loss: 0.3296 - accuracy: 0.8658 - val_loss: 0.3442 - val_accuracy: 0.8625\n",
            "Epoch 40/100\n",
            "560/560 [==============================] - 1s 2ms/step - loss: 0.3308 - accuracy: 0.8666 - val_loss: 0.3460 - val_accuracy: 0.8583\n",
            "Epoch 41/100\n",
            "560/560 [==============================] - 1s 2ms/step - loss: 0.3207 - accuracy: 0.8694 - val_loss: 0.3453 - val_accuracy: 0.8604\n",
            "Epoch 42/100\n",
            "560/560 [==============================] - 1s 2ms/step - loss: 0.3276 - accuracy: 0.8650 - val_loss: 0.3464 - val_accuracy: 0.8575\n",
            "Epoch 43/100\n",
            "560/560 [==============================] - 1s 2ms/step - loss: 0.3403 - accuracy: 0.8623 - val_loss: 0.3457 - val_accuracy: 0.8583\n",
            "Epoch 44/100\n",
            "560/560 [==============================] - 1s 2ms/step - loss: 0.3230 - accuracy: 0.8681 - val_loss: 0.3469 - val_accuracy: 0.8587\n",
            "Epoch 45/100\n",
            "560/560 [==============================] - 1s 2ms/step - loss: 0.3191 - accuracy: 0.8646 - val_loss: 0.3491 - val_accuracy: 0.8604\n",
            "Epoch 46/100\n",
            "560/560 [==============================] - 1s 2ms/step - loss: 0.3219 - accuracy: 0.8676 - val_loss: 0.3440 - val_accuracy: 0.8596\n",
            "Epoch 47/100\n",
            "560/560 [==============================] - 1s 2ms/step - loss: 0.3240 - accuracy: 0.8625 - val_loss: 0.3451 - val_accuracy: 0.8583\n",
            "Epoch 48/100\n",
            "560/560 [==============================] - 1s 2ms/step - loss: 0.3222 - accuracy: 0.8700 - val_loss: 0.3466 - val_accuracy: 0.8608\n",
            "Epoch 49/100\n",
            "560/560 [==============================] - 1s 2ms/step - loss: 0.3297 - accuracy: 0.8619 - val_loss: 0.3477 - val_accuracy: 0.8600\n",
            "Epoch 50/100\n",
            "560/560 [==============================] - 1s 2ms/step - loss: 0.3269 - accuracy: 0.8652 - val_loss: 0.3457 - val_accuracy: 0.8583\n",
            "Epoch 51/100\n",
            "560/560 [==============================] - 1s 2ms/step - loss: 0.3234 - accuracy: 0.8694 - val_loss: 0.3464 - val_accuracy: 0.8592\n",
            "Epoch 52/100\n",
            "560/560 [==============================] - 1s 2ms/step - loss: 0.3240 - accuracy: 0.8690 - val_loss: 0.3491 - val_accuracy: 0.8600\n",
            "Epoch 53/100\n",
            "560/560 [==============================] - 1s 2ms/step - loss: 0.3269 - accuracy: 0.8689 - val_loss: 0.3480 - val_accuracy: 0.8575\n",
            "Epoch 54/100\n",
            "560/560 [==============================] - 1s 2ms/step - loss: 0.3396 - accuracy: 0.8532 - val_loss: 0.3445 - val_accuracy: 0.8596\n",
            "Epoch 55/100\n",
            "560/560 [==============================] - 1s 2ms/step - loss: 0.3266 - accuracy: 0.8628 - val_loss: 0.3473 - val_accuracy: 0.8592\n",
            "Epoch 56/100\n",
            "560/560 [==============================] - 1s 2ms/step - loss: 0.3283 - accuracy: 0.8680 - val_loss: 0.3473 - val_accuracy: 0.8567\n",
            "Epoch 57/100\n",
            "560/560 [==============================] - 1s 2ms/step - loss: 0.3245 - accuracy: 0.8603 - val_loss: 0.3497 - val_accuracy: 0.8571\n",
            "Epoch 58/100\n",
            "560/560 [==============================] - 1s 2ms/step - loss: 0.3246 - accuracy: 0.8620 - val_loss: 0.3473 - val_accuracy: 0.8587\n",
            "Epoch 59/100\n",
            "560/560 [==============================] - 1s 2ms/step - loss: 0.3250 - accuracy: 0.8606 - val_loss: 0.3481 - val_accuracy: 0.8575\n",
            "Epoch 60/100\n",
            "560/560 [==============================] - 1s 2ms/step - loss: 0.3224 - accuracy: 0.8662 - val_loss: 0.3482 - val_accuracy: 0.8562\n",
            "Epoch 61/100\n",
            "560/560 [==============================] - 1s 2ms/step - loss: 0.3226 - accuracy: 0.8652 - val_loss: 0.3498 - val_accuracy: 0.8567\n",
            "Epoch 62/100\n",
            "560/560 [==============================] - 1s 2ms/step - loss: 0.3128 - accuracy: 0.8712 - val_loss: 0.3469 - val_accuracy: 0.8583\n",
            "Epoch 63/100\n",
            "560/560 [==============================] - 1s 2ms/step - loss: 0.3164 - accuracy: 0.8662 - val_loss: 0.3481 - val_accuracy: 0.8562\n",
            "Epoch 64/100\n",
            "560/560 [==============================] - 1s 2ms/step - loss: 0.3276 - accuracy: 0.8652 - val_loss: 0.3479 - val_accuracy: 0.8579\n",
            "Epoch 65/100\n",
            "560/560 [==============================] - 1s 2ms/step - loss: 0.3429 - accuracy: 0.8586 - val_loss: 0.3452 - val_accuracy: 0.8600\n",
            "Epoch 66/100\n",
            "560/560 [==============================] - 1s 2ms/step - loss: 0.3112 - accuracy: 0.8699 - val_loss: 0.3508 - val_accuracy: 0.8567\n",
            "Epoch 67/100\n",
            "560/560 [==============================] - 1s 2ms/step - loss: 0.3285 - accuracy: 0.8643 - val_loss: 0.3489 - val_accuracy: 0.8550\n",
            "Epoch 68/100\n",
            "560/560 [==============================] - 1s 2ms/step - loss: 0.3265 - accuracy: 0.8611 - val_loss: 0.3486 - val_accuracy: 0.8567\n",
            "Epoch 69/100\n",
            "560/560 [==============================] - 1s 2ms/step - loss: 0.3438 - accuracy: 0.8543 - val_loss: 0.3477 - val_accuracy: 0.8567\n",
            "Epoch 70/100\n",
            "560/560 [==============================] - 1s 2ms/step - loss: 0.3318 - accuracy: 0.8613 - val_loss: 0.3491 - val_accuracy: 0.8583\n",
            "Epoch 71/100\n",
            "560/560 [==============================] - 1s 2ms/step - loss: 0.3308 - accuracy: 0.8640 - val_loss: 0.3485 - val_accuracy: 0.8558\n",
            "Epoch 72/100\n",
            "560/560 [==============================] - 1s 2ms/step - loss: 0.3237 - accuracy: 0.8658 - val_loss: 0.3488 - val_accuracy: 0.8579\n",
            "Epoch 73/100\n",
            "560/560 [==============================] - 1s 2ms/step - loss: 0.3199 - accuracy: 0.8702 - val_loss: 0.3485 - val_accuracy: 0.8571\n",
            "Epoch 74/100\n",
            "560/560 [==============================] - 1s 2ms/step - loss: 0.3268 - accuracy: 0.8674 - val_loss: 0.3487 - val_accuracy: 0.8562\n",
            "Epoch 75/100\n",
            "560/560 [==============================] - 1s 2ms/step - loss: 0.3202 - accuracy: 0.8664 - val_loss: 0.3486 - val_accuracy: 0.8579\n",
            "Epoch 76/100\n",
            "560/560 [==============================] - 1s 2ms/step - loss: 0.3332 - accuracy: 0.8639 - val_loss: 0.3474 - val_accuracy: 0.8575\n",
            "Epoch 77/100\n",
            "560/560 [==============================] - 1s 2ms/step - loss: 0.3359 - accuracy: 0.8607 - val_loss: 0.3473 - val_accuracy: 0.8575\n",
            "Epoch 78/100\n",
            "560/560 [==============================] - 1s 2ms/step - loss: 0.3375 - accuracy: 0.8634 - val_loss: 0.3502 - val_accuracy: 0.8567\n",
            "Epoch 79/100\n",
            "560/560 [==============================] - 1s 2ms/step - loss: 0.3253 - accuracy: 0.8674 - val_loss: 0.3479 - val_accuracy: 0.8579\n",
            "Epoch 80/100\n",
            "560/560 [==============================] - 1s 2ms/step - loss: 0.3325 - accuracy: 0.8590 - val_loss: 0.3502 - val_accuracy: 0.8567\n",
            "Epoch 81/100\n",
            "560/560 [==============================] - 1s 2ms/step - loss: 0.3296 - accuracy: 0.8639 - val_loss: 0.3514 - val_accuracy: 0.8562\n",
            "Epoch 82/100\n",
            "560/560 [==============================] - 1s 2ms/step - loss: 0.3211 - accuracy: 0.8648 - val_loss: 0.3506 - val_accuracy: 0.8537\n",
            "Epoch 83/100\n",
            "560/560 [==============================] - 1s 2ms/step - loss: 0.3411 - accuracy: 0.8557 - val_loss: 0.3501 - val_accuracy: 0.8562\n",
            "Epoch 84/100\n",
            "560/560 [==============================] - 1s 2ms/step - loss: 0.3216 - accuracy: 0.8657 - val_loss: 0.3475 - val_accuracy: 0.8583\n",
            "Epoch 85/100\n",
            "560/560 [==============================] - 1s 2ms/step - loss: 0.3467 - accuracy: 0.8552 - val_loss: 0.3489 - val_accuracy: 0.8558\n",
            "Epoch 86/100\n",
            "560/560 [==============================] - 1s 2ms/step - loss: 0.3201 - accuracy: 0.8687 - val_loss: 0.3503 - val_accuracy: 0.8575\n",
            "Epoch 87/100\n",
            "560/560 [==============================] - 1s 2ms/step - loss: 0.3289 - accuracy: 0.8595 - val_loss: 0.3479 - val_accuracy: 0.8575\n",
            "Epoch 88/100\n",
            "560/560 [==============================] - 1s 2ms/step - loss: 0.3305 - accuracy: 0.8593 - val_loss: 0.3490 - val_accuracy: 0.8567\n",
            "Epoch 89/100\n",
            "560/560 [==============================] - 1s 2ms/step - loss: 0.3326 - accuracy: 0.8585 - val_loss: 0.3515 - val_accuracy: 0.8562\n",
            "Epoch 90/100\n",
            "560/560 [==============================] - 1s 2ms/step - loss: 0.3344 - accuracy: 0.8616 - val_loss: 0.3513 - val_accuracy: 0.8562\n",
            "Epoch 91/100\n",
            "560/560 [==============================] - 1s 2ms/step - loss: 0.3137 - accuracy: 0.8702 - val_loss: 0.3494 - val_accuracy: 0.8592\n",
            "Epoch 92/100\n",
            "560/560 [==============================] - 1s 2ms/step - loss: 0.3259 - accuracy: 0.8650 - val_loss: 0.3487 - val_accuracy: 0.8587\n",
            "Epoch 93/100\n",
            "560/560 [==============================] - 1s 2ms/step - loss: 0.3202 - accuracy: 0.8719 - val_loss: 0.3514 - val_accuracy: 0.8579\n",
            "Epoch 94/100\n",
            "560/560 [==============================] - 1s 2ms/step - loss: 0.3263 - accuracy: 0.8599 - val_loss: 0.3547 - val_accuracy: 0.8579\n",
            "Epoch 95/100\n",
            "560/560 [==============================] - 1s 2ms/step - loss: 0.3227 - accuracy: 0.8647 - val_loss: 0.3504 - val_accuracy: 0.8575\n",
            "Epoch 96/100\n",
            "560/560 [==============================] - 1s 2ms/step - loss: 0.3316 - accuracy: 0.8596 - val_loss: 0.3511 - val_accuracy: 0.8571\n",
            "Epoch 97/100\n",
            "560/560 [==============================] - 1s 2ms/step - loss: 0.3140 - accuracy: 0.8659 - val_loss: 0.3511 - val_accuracy: 0.8600\n",
            "Epoch 98/100\n",
            "560/560 [==============================] - 1s 2ms/step - loss: 0.3175 - accuracy: 0.8676 - val_loss: 0.3522 - val_accuracy: 0.8587\n",
            "Epoch 99/100\n",
            "560/560 [==============================] - 1s 2ms/step - loss: 0.3293 - accuracy: 0.8606 - val_loss: 0.3503 - val_accuracy: 0.8587\n",
            "Epoch 100/100\n",
            "560/560 [==============================] - 1s 2ms/step - loss: 0.3189 - accuracy: 0.8646 - val_loss: 0.3532 - val_accuracy: 0.8562\n"
          ],
          "name": "stdout"
        }
      ]
    },
    {
      "cell_type": "code",
      "metadata": {
        "colab": {
          "base_uri": "https://localhost:8080/"
        },
        "id": "JlguXZYycAkT",
        "outputId": "6b4eed08-1f0f-42b3-cc33-0655df65e146"
      },
      "source": [
        "model_history.history.keys()"
      ],
      "execution_count": 32,
      "outputs": [
        {
          "output_type": "execute_result",
          "data": {
            "text/plain": [
              "dict_keys(['loss', 'accuracy', 'val_loss', 'val_accuracy'])"
            ]
          },
          "metadata": {
            "tags": []
          },
          "execution_count": 32
        }
      ]
    },
    {
      "cell_type": "code",
      "metadata": {
        "colab": {
          "base_uri": "https://localhost:8080/",
          "height": 295
        },
        "id": "T4dyYM0pcn_h",
        "outputId": "96ed7ca9-8af9-4763-8e6b-74107dd32969"
      },
      "source": [
        "plt.plot( model_history.history['accuracy'])\n",
        "plt.plot( model_history.history['val_accuracy'])\n",
        "plt.title('model_accuracy')\n",
        "plt.ylabel('accuracy')\n",
        "plt.xlabel('epoch')\n",
        "plt.legend(['train','test'],loc='upper left')\n",
        "plt.show()"
      ],
      "execution_count": 35,
      "outputs": [
        {
          "output_type": "display_data",
          "data": {
            "image/png": "[encoded data removed]",
            "text/plain": [
              "<Figure size 432x288 with 1 Axes>"
            ]
          },
          "metadata": {
            "tags": [],
            "needs_background": "light"
          }
        }
      ]
    },
    {
      "cell_type": "code",
      "metadata": {
        "id": "y18P-YzVd61U"
      },
      "source": [
        "y_pred = classifier.predict(X_test)"
      ],
      "execution_count": 40,
      "outputs": []
    },
    {
      "cell_type": "code",
      "metadata": {
        "id": "KM4tQOvgfUO2"
      },
      "source": [
        "y_pred = (y_pred >0.5)"
      ],
      "execution_count": 41,
      "outputs": []
    },
    {
      "cell_type": "code",
      "metadata": {
        "colab": {
          "base_uri": "https://localhost:8080/"
        },
        "id": "rtU3t0QYfiNY",
        "outputId": "87ef8c33-9c09-4895-ac63-1fd3345032df"
      },
      "source": [
        "y_pred"
      ],
      "execution_count": 42,
      "outputs": [
        {
          "output_type": "execute_result",
          "data": {
            "text/plain": [
              "array([[False],\n",
              "       [False],\n",
              "       [False],\n",
              "       ...,\n",
              "       [False],\n",
              "       [False],\n",
              "       [False]])"
            ]
          },
          "metadata": {
            "tags": []
          },
          "execution_count": 42
        }
      ]
    },
    {
      "cell_type": "code",
      "metadata": {
        "id": "-iLXxv1ffjN1"
      },
      "source": [
        "from sklearn.metrics import classification_report"
      ],
      "execution_count": 45,
      "outputs": []
    },
    {
      "cell_type": "code",
      "metadata": {
        "colab": {
          "base_uri": "https://localhost:8080/"
        },
        "id": "fNWcqvonf0ic",
        "outputId": "5bde5d88-218a-48cb-b168-6f7bcaf4897a"
      },
      "source": [
        "print(classification_report(y_test,y_pred))"
      ],
      "execution_count": 47,
      "outputs": [
        {
          "output_type": "stream",
          "text": [
            "              precision    recall  f1-score   support\n",
            "\n",
            "           0       0.88      0.96      0.92      1577\n",
            "           1       0.76      0.51      0.61       423\n",
            "\n",
            "    accuracy                           0.86      2000\n",
            "   macro avg       0.82      0.73      0.76      2000\n",
            "weighted avg       0.85      0.86      0.85      2000\n",
            "\n"
          ],
          "name": "stdout"
        }
      ]
    },
    {
      "cell_type": "code",
      "metadata": {
        "id": "zb2WypZsf8-V"
      },
      "source": [
        ""
      ],
      "execution_count": null,
      "outputs": []
    }
  ]
}